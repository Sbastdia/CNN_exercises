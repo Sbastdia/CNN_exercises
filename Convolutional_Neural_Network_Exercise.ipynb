{
  "nbformat": 4,
  "nbformat_minor": 0,
  "metadata": {
    "colab": {
      "provenance": [],
      "gpuType": "T4"
    },
    "kernelspec": {
      "name": "python3",
      "display_name": "Python 3"
    },
    "language_info": {
      "name": "python"
    },
    "accelerator": "GPU"
  },
  "cells": [
    {
      "cell_type": "markdown",
      "source": [
        "# Exercise\n",
        "\n",
        " - Import data on emotion\n",
        " - Train a CNN to classify by emotion (Angry, Disgust, Fear, Happy...)\n",
        " - Use Data augmentaion techinques to improve you accuracy\n",
        " - Compare your results with DeepFace Library https://pypi.org/project/deepface/"
      ],
      "metadata": {
        "id": "1A4oknIAVJSA"
      }
    },
    {
      "cell_type": "code",
      "source": [
        "from google.colab import drive\n",
        "drive.mount('/content/drive')"
      ],
      "metadata": {
        "colab": {
          "base_uri": "https://localhost:8080/"
        },
        "id": "uwjiumsUL1Xq",
        "outputId": "f74283fb-cfad-4cce-d0c8-ea548e8a9f71"
      },
      "execution_count": 1,
      "outputs": [
        {
          "output_type": "stream",
          "name": "stdout",
          "text": [
            "Mounted at /content/drive\n"
          ]
        }
      ]
    },
    {
      "cell_type": "code",
      "source": [
        "!unzip /content/drive/MyDrive/Ironhack/CNN/emotions-20231104T114718Z-001.zip"
      ],
      "metadata": {
        "colab": {
          "base_uri": "https://localhost:8080/"
        },
        "id": "cBefQ872L93K",
        "outputId": "b23eca52-bd05-425d-a90a-7a1f8d9d72fb"
      },
      "execution_count": 2,
      "outputs": [
        {
          "output_type": "stream",
          "name": "stdout",
          "text": [
            "Archive:  /content/drive/MyDrive/Ironhack/CNN/emotions-20231104T114718Z-001.zip\n",
            "  inflating: emotions/Disgust/image 106.png  \n",
            "  inflating: emotions/Disgust/image 93.png  \n",
            "  inflating: emotions/Disgust/image 118.png  \n",
            "  inflating: emotions/Disgust/image 108.png  \n",
            "  inflating: emotions/Disgust/image 116.png  \n",
            "  inflating: emotions/Disgust/image 96.png  \n",
            "  inflating: emotions/Disgust/image 100.png  \n",
            "  inflating: emotions/Disgust/image 103.png  \n",
            "  inflating: emotions/Disgust/image 102.png  \n",
            "  inflating: emotions/Disgust/image 109.png  \n",
            "  inflating: emotions/Disgust/image 104.png  \n",
            "  inflating: emotions/Disgust/image 123.png  \n",
            "  inflating: emotions/Happy/image 26.png  \n",
            "  inflating: emotions/Happy/image 17.png  \n",
            "  inflating: emotions/Happy/image 12.png  \n",
            "  inflating: emotions/Neutral/image 213.png  \n",
            "  inflating: emotions/Happy/image 16.png  \n",
            "  inflating: emotions/Neutral/image 200.png  \n",
            "  inflating: emotions/Neutral/image 196.png  \n",
            "  inflating: emotions/Disgust/image 99.png  \n",
            "  inflating: emotions/Disgust/image 105.png  \n",
            "  inflating: emotions/Disgust/image 95.png  \n",
            "  inflating: emotions/Disgust/image 121.png  \n",
            "  inflating: emotions/Neutral/image 208.png  \n",
            "  inflating: emotions/Happy/image 23 - copia.png  \n",
            "  inflating: emotions/Disgust/image 122.png  \n",
            "  inflating: emotions/Disgust/image 94.png  \n",
            "  inflating: emotions/Disgust/image 98.png  \n",
            "  inflating: emotions/Neutral/image 212.png  \n",
            "  inflating: emotions/Happy/image 14 - copia.png  \n",
            "  inflating: emotions/Neutral/image 207.png  \n",
            "  inflating: emotions/Disgust/image 110.png  \n",
            "  inflating: emotions/Disgust/image 119.png  \n",
            "  inflating: emotions/Happy/image 9.png  \n",
            "  inflating: emotions/Happy/image 21.png  \n",
            "  inflating: emotions/Neutral/image 216.png  \n",
            "  inflating: emotions/Happy/image 11.png  \n",
            "  inflating: emotions/Happy/image 14.png  \n",
            "  inflating: emotions/Neutral/image 214.png  \n",
            "  inflating: emotions/Neutral/image 201.png  \n",
            "  inflating: emotions/Disgust/image 97.png  \n",
            "  inflating: emotions/Happy/image 27.png  \n",
            "  inflating: emotions/Neutral/image 198.png  \n",
            "  inflating: emotions/Disgust/image 120.png  \n",
            "  inflating: emotions/Neutral/image 209.png  \n",
            "  inflating: emotions/Disgust/image 115.png  \n",
            "  inflating: emotions/Neutral/image 221.png  \n",
            "  inflating: emotions/Happy/image 7.png  \n",
            "  inflating: emotions/Disgust/image 101.png  \n",
            "  inflating: emotions/Surprise/image 160.png  \n",
            "  inflating: emotions/Neutral/image 204.png  \n",
            "  inflating: emotions/Surprise/image 183.png  \n",
            "  inflating: emotions/Surprise/image 170.png  \n",
            "  inflating: emotions/Happy/image 31.png  \n",
            "  inflating: emotions/Happy/image 24 - copia.png  \n",
            "  inflating: emotions/Disgust/image 117.png  \n",
            "  inflating: emotions/Surprise/image 159.png  \n",
            "  inflating: emotions/Happy/image 17 - copia.png  \n",
            "  inflating: emotions/Neutral/image 220.png  \n",
            "  inflating: emotions/Neutral/image 218.png  \n",
            "  inflating: emotions/Surprise/image 185.png  \n",
            "  inflating: emotions/Neutral/image 197.png  \n",
            "  inflating: emotions/Happy/image 4.png  \n",
            "  inflating: emotions/Neutral/image 219.png  \n",
            "  inflating: emotions/Happy/image 1.png  \n",
            "  inflating: emotions/Neutral/image 215.png  \n",
            "  inflating: emotions/Surprise/image 180.png  \n",
            "  inflating: emotions/Surprise/image 178.png  \n",
            "  inflating: emotions/Happy/image 7 - copia.png  \n",
            "  inflating: emotions/Surprise/image 187.png  \n",
            "  inflating: emotions/Neutral/image 195.png  \n",
            "  inflating: emotions/Neutral/image 202.png  \n",
            "  inflating: emotions/Happy/image 15.png  \n",
            "  inflating: emotions/Happy/image 30.png  \n",
            "  inflating: emotions/Happy/image 8.png  \n",
            "  inflating: emotions/Neutral/image 217.png  \n",
            "  inflating: emotions/Neutral/image 192.png  \n",
            "  inflating: emotions/Surprise/image 163.png  \n",
            "  inflating: emotions/Happy/image 13.png  \n",
            "  inflating: emotions/Surprise/image 181.png  \n",
            "  inflating: emotions/Surprise/image 191.png  \n",
            "  inflating: emotions/Surprise/image 157.png  \n",
            "  inflating: emotions/Neutral/image 211.png  \n",
            "  inflating: emotions/Happy/image 24.png  \n",
            "  inflating: emotions/Happy/image 18.png  \n",
            "  inflating: emotions/Neutral/image 205.png  \n",
            "  inflating: emotions/Surprise/image 173.png  \n",
            "  inflating: emotions/Happy/image 29.png  \n",
            "  inflating: emotions/Happy/image 10.png  \n",
            "  inflating: emotions/Surprise/image 189.png  \n",
            "  inflating: emotions/Surprise/image 176.png  \n",
            "  inflating: emotions/Neutral/image 193.png  \n",
            "  inflating: emotions/Surprise/image 190.png  \n",
            "  inflating: emotions/Happy/image 5.png  \n",
            "  inflating: emotions/Surprise/image 167.png  \n",
            "  inflating: emotions/Happy/image 18 - copia.png  \n",
            "  inflating: emotions/Happy/image 3.png  \n",
            "  inflating: emotions/Happy/image 20.png  \n",
            "  inflating: emotions/Neutral/image 203.png  \n",
            "  inflating: emotions/Surprise/image 165.png  \n",
            "  inflating: emotions/Surprise/image 156.png  \n",
            "  inflating: emotions/Surprise/image 177.png  \n",
            "  inflating: emotions/Happy/image 23.png  \n",
            "  inflating: emotions/Happy/image 28.png  \n",
            "  inflating: emotions/Surprise/image 172.png  \n",
            "  inflating: emotions/Surprise/image 184.png  \n",
            "  inflating: emotions/Happy/image 15 - copia.png  \n",
            "  inflating: emotions/Happy/image 25.png  \n",
            "  inflating: emotions/Neutral/image 210.png  \n",
            "  inflating: emotions/Neutral/image 194.png  \n",
            "  inflating: emotions/Happy/image 22.png  \n",
            "  inflating: emotions/Surprise/image 169.png  \n",
            "  inflating: emotions/Surprise/image 188.png  \n",
            "  inflating: emotions/Happy/image 6.png  \n",
            "  inflating: emotions/Sad/image 54.png  \n",
            "  inflating: emotions/Sad/image 42.png  \n",
            "  inflating: emotions/Neutral/image 199.png  \n",
            "  inflating: emotions/Neutral/image 206.png  \n",
            "  inflating: emotions/Sad/image 53.png  \n",
            "  inflating: emotions/Surprise/image 174.png  \n",
            "  inflating: emotions/Sad/image 48.png  \n",
            "  inflating: emotions/Sad/image 57.png  \n",
            "  inflating: emotions/Surprise/image 162.png  \n",
            "  inflating: emotions/Surprise/image 164.png  \n",
            "  inflating: emotions/Surprise/image 186.png  \n",
            "  inflating: emotions/Sad/image 33.png  \n",
            "  inflating: emotions/Happy/image 22 - copia.png  \n",
            "  inflating: emotions/Sad/image 52.png  \n",
            "  inflating: emotions/Sad/image 49.png  \n",
            "  inflating: emotions/Sad/image 43.png  \n",
            "  inflating: emotions/Sad/image 38.png  \n",
            "  inflating: emotions/Sad/image 37.png  \n",
            "  inflating: emotions/Sad/image 46.png  \n",
            "  inflating: emotions/Sad/image 62.png  \n",
            "  inflating: emotions/Sad/image 55.png  \n",
            "  inflating: emotions/Sad/image 40.png  \n",
            "  inflating: emotions/Angry/image 70.png  \n",
            "  inflating: emotions/Sad/image 61.png  \n",
            "  inflating: emotions/Sad/image 32.png  \n",
            "  inflating: emotions/Sad/image 56.png  \n",
            "  inflating: emotions/Angry/image 75.png  \n",
            "  inflating: emotions/Angry/image 83.png  \n",
            "  inflating: emotions/Surprise/image 168.png  \n",
            "  inflating: emotions/Sad/image 47.png  \n",
            "  inflating: emotions/Surprise/image 171.png  \n",
            "  inflating: emotions/Sad/image 36.png  \n",
            "  inflating: emotions/Happy/image 2.png  \n",
            "  inflating: emotions/Sad/image 60.png  \n",
            "  inflating: emotions/Sad/image 50.png  \n",
            "  inflating: emotions/Angry/image 77 - copia.png  \n",
            "  inflating: emotions/Angry/image 92 - copia.png  \n",
            "  inflating: emotions/Sad/image 51.png  \n",
            "  inflating: emotions/Angry/image 79.png  \n",
            "  inflating: emotions/Angry/image 84.png  \n",
            "  inflating: emotions/Sad/image 34.png  \n",
            "  inflating: emotions/Angry/image 73.png  \n",
            "  inflating: emotions/Angry/image 73 - copia.png  \n",
            "  inflating: emotions/Angry/image 68.png  \n",
            "  inflating: emotions/Angry/image 64 - copia.png  \n",
            "  inflating: emotions/Angry/image 79 - copia.png  \n",
            "  inflating: emotions/Angry/image 77.png  \n",
            "  inflating: emotions/Angry/image 63.png  \n",
            "  inflating: emotions/Angry/image 71.png  \n",
            "  inflating: emotions/Angry/image 64.png  \n",
            "  inflating: emotions/Angry/image 66.png  \n",
            "  inflating: emotions/Angry/image 90.png  \n",
            "  inflating: emotions/Sad/image 39.png  \n",
            "  inflating: emotions/Angry/image 69.png  \n",
            "  inflating: emotions/Sad/image 44.png  \n",
            "  inflating: emotions/Sad/image 59.png  \n",
            "  inflating: emotions/Angry/image 80.png  \n",
            "  inflating: emotions/Angry/image 72.png  \n",
            "  inflating: emotions/Angry/image 82.png  \n",
            "  inflating: emotions/Angry/image 91.png  \n",
            "  inflating: emotions/Angry/image 92.png  \n",
            "  inflating: emotions/Angry/image 74.png  \n",
            "  inflating: emotions/Angry/image 65.png  \n",
            "  inflating: emotions/Angry/image 67.png  \n",
            "  inflating: emotions/Angry/image 88.png  \n",
            "  inflating: emotions/Angry/image 87 - copia.png  \n",
            "  inflating: emotions/Angry/image 76.png  \n",
            "  inflating: emotions/Angry/image 86.png  \n",
            "  inflating: emotions/Fear/image 152.png  \n",
            "  inflating: emotions/Fear/image 142.png  \n",
            "  inflating: emotions/Fear/image 147.png  \n",
            "  inflating: emotions/Angry/image 85.png  \n",
            "  inflating: emotions/Fear/image 127.png  \n",
            "  inflating: emotions/Fear/image 128.png  \n",
            "  inflating: emotions/Fear/image 129.png  \n",
            "  inflating: emotions/Fear/image 134.png  \n",
            "  inflating: emotions/Fear/image 140.png  \n",
            "  inflating: emotions/Fear/image 131.png  \n",
            "  inflating: emotions/Fear/image 151.png  \n",
            "  inflating: emotions/Angry/image 89.png  \n",
            "  inflating: emotions/Angry/image 78.png  \n",
            "  inflating: emotions/Fear/image 130.png  \n",
            "  inflating: emotions/Sad/image 41.png  \n",
            "  inflating: emotions/Fear/image 132.png  \n",
            "  inflating: emotions/Fear/image 133.png  \n",
            "  inflating: emotions/Angry/image 85 - copia.png  \n",
            "  inflating: emotions/Fear/image 124.png  \n",
            "  inflating: emotions/Fear/image 144.png  \n",
            "  inflating: emotions/Sad/image 45.png  \n",
            "  inflating: emotions/Fear/image 135.png  \n",
            "  inflating: emotions/Fear/image 125.png  \n",
            "  inflating: emotions/Fear/image 149.png  \n",
            "  inflating: emotions/Fear/image 143.png  \n",
            "  inflating: emotions/Fear/image 154.png  \n",
            "  inflating: emotions/Fear/image 155.png  \n",
            "  inflating: emotions/Fear/image 146.png  \n",
            "  inflating: emotions/Fear/image 137.png  \n",
            "  inflating: emotions/Fear/image 126.png  \n",
            "  inflating: emotions/Fear/image 138.png  \n",
            "  inflating: emotions/Fear/image 150.png  \n",
            "  inflating: emotions/Fear/image 136.png  \n",
            "  inflating: emotions/Fear/image 141.png  \n",
            "  inflating: emotions/Angry/image 81.png  \n",
            "  inflating: emotions/Fear/image 148.png  \n",
            "  inflating: emotions/Fear/image 153.png  \n",
            "  inflating: emotions/Sad/image 58.png  \n",
            "  inflating: emotions/Angry/image 87.png  \n"
          ]
        }
      ]
    },
    {
      "cell_type": "code",
      "execution_count": 121,
      "metadata": {
        "id": "ia_vwwk7VF0y"
      },
      "outputs": [],
      "source": [
        "import pandas as pd\n",
        "import numpy as np\n",
        "import matplotlib.pyplot as plt\n",
        "import seaborn as sns\n",
        "import os\n",
        "from tabulate import tabulate\n",
        "\n",
        "import cv2 as cv\n",
        "import pathlib\n",
        "from PIL import Image\n",
        "\n",
        "from sklearn.metrics import accuracy_score,classification_report\n",
        "from sklearn.model_selection import train_test_split\n",
        "\n",
        "import tensorflow as tf\n",
        "from tensorflow.keras.models import Sequential\n",
        "from tensorflow.keras.layers import Dense, Dropout, BatchNormalization, Activation, Flatten, Conv2D, MaxPooling2D\n",
        "from tensorflow.keras.regularizers import l1, l2, l1_l2\n",
        "from tensorflow.keras.metrics import Recall, Precision\n",
        "from tensorflow.keras.callbacks import EarlyStopping\n",
        "from tensorflow.keras.preprocessing.image import ImageDataGenerator\n",
        "from tensorflow.keras.utils import to_categorical\n"
      ]
    },
    {
      "cell_type": "code",
      "source": [
        "url = '/content/emotions/'\n",
        "data = pathlib.Path(url)\n",
        "paths = {\n",
        "    \"Angry\": list(data.glob('Angry/*.png')),\n",
        "    \"Disgust\": list(data.glob('Disgust/*.png')),\n",
        "    \"Fear\": list(data.glob('Fear/*.png')),\n",
        "    \"Happy\" : list(data.glob('Happy/*.png')),\n",
        "    \"Neutral\" : list(data.glob('Neutral/*.png')),\n",
        "    \"Sad\" : list(data.glob('Sad/*.png')),\n",
        "    \"Surprise\" : list(data.glob('Surprise/*.png'))\n",
        "}\n",
        "\n",
        "labels = {\n",
        "    \"Angry\" : 0,\n",
        "    \"Disgust\":1,\n",
        "    \"Fear\":2,\n",
        "    \"Happy\":3,\n",
        "    \"Neutral\":4,\n",
        "    \"Sad\":5,\n",
        "    \"Surprise\":6\n",
        "}"
      ],
      "metadata": {
        "id": "ykmaP706Vw2Z"
      },
      "execution_count": 122,
      "outputs": []
    },
    {
      "cell_type": "code",
      "source": [
        "Image.open(str(paths[\"Angry\"][0]))"
      ],
      "metadata": {
        "colab": {
          "base_uri": "https://localhost:8080/",
          "height": 113
        },
        "id": "Yc8nYlX3WePm",
        "outputId": "d2d371ae-7465-44cd-bea4-1d678febb098"
      },
      "execution_count": 123,
      "outputs": [
        {
          "output_type": "execute_result",
          "data": {
            "text/plain": [
              "<PIL.PngImagePlugin.PngImageFile image mode=RGBA size=96x96>"
            ],
            "image/png": "[encoded data removed]"
          },
          "metadata": {},
          "execution_count": 123
        }
      ]
    },
    {
      "cell_type": "code",
      "source": [
        "X=[]\n",
        "y=[]\n",
        "\n",
        "for name, images in paths.items():\n",
        "    for image in images:\n",
        "        try:\n",
        "            print(name)\n",
        "            image = str(image).strip()\n",
        "            img = cv.imread(image)\n",
        "            img_resize = cv.resize(img,(200,200))\n",
        "            X.append(img_resize)\n",
        "            y.append(labels[name])\n",
        "\n",
        "        except:\n",
        "            print('Except')\n",
        "\n",
        "X = np.array(X)\n",
        "y = np.array(y)\n",
        "X.shape"
      ],
      "metadata": {
        "id": "RB5QCwD9WgOv",
        "colab": {
          "base_uri": "https://localhost:8080/"
        },
        "outputId": "6e300c87-2e12-4373-aaeb-17250a382746"
      },
      "execution_count": 124,
      "outputs": [
        {
          "output_type": "stream",
          "name": "stdout",
          "text": [
            "Angry\n",
            "Angry\n",
            "Angry\n",
            "Angry\n",
            "Angry\n",
            "Angry\n",
            "Angry\n",
            "Angry\n",
            "Angry\n",
            "Angry\n",
            "Angry\n",
            "Angry\n",
            "Angry\n",
            "Angry\n",
            "Angry\n",
            "Angry\n",
            "Angry\n",
            "Angry\n",
            "Angry\n",
            "Angry\n",
            "Angry\n",
            "Angry\n",
            "Angry\n",
            "Angry\n",
            "Angry\n",
            "Angry\n",
            "Angry\n",
            "Angry\n",
            "Angry\n",
            "Angry\n",
            "Angry\n",
            "Angry\n",
            "Angry\n",
            "Angry\n",
            "Angry\n",
            "Angry\n",
            "Angry\n",
            "Disgust\n",
            "Disgust\n",
            "Disgust\n",
            "Disgust\n",
            "Disgust\n",
            "Disgust\n",
            "Disgust\n",
            "Disgust\n",
            "Disgust\n",
            "Disgust\n",
            "Disgust\n",
            "Disgust\n",
            "Disgust\n",
            "Disgust\n",
            "Disgust\n",
            "Disgust\n",
            "Disgust\n",
            "Disgust\n",
            "Disgust\n",
            "Disgust\n",
            "Disgust\n",
            "Disgust\n",
            "Disgust\n",
            "Disgust\n",
            "Disgust\n",
            "Disgust\n",
            "Fear\n",
            "Fear\n",
            "Fear\n",
            "Fear\n",
            "Fear\n",
            "Fear\n",
            "Fear\n",
            "Fear\n",
            "Fear\n",
            "Fear\n",
            "Fear\n",
            "Fear\n",
            "Fear\n",
            "Fear\n",
            "Fear\n",
            "Fear\n",
            "Fear\n",
            "Fear\n",
            "Fear\n",
            "Fear\n",
            "Fear\n",
            "Fear\n",
            "Fear\n",
            "Fear\n",
            "Fear\n",
            "Fear\n",
            "Fear\n",
            "Fear\n",
            "Fear\n",
            "Fear\n",
            "Happy\n",
            "Happy\n",
            "Happy\n",
            "Happy\n",
            "Happy\n",
            "Happy\n",
            "Happy\n",
            "Happy\n",
            "Happy\n",
            "Happy\n",
            "Happy\n",
            "Happy\n",
            "Happy\n",
            "Happy\n",
            "Happy\n",
            "Happy\n",
            "Happy\n",
            "Happy\n",
            "Happy\n",
            "Happy\n",
            "Happy\n",
            "Happy\n",
            "Happy\n",
            "Happy\n",
            "Happy\n",
            "Happy\n",
            "Happy\n",
            "Happy\n",
            "Happy\n",
            "Happy\n",
            "Happy\n",
            "Happy\n",
            "Happy\n",
            "Happy\n",
            "Happy\n",
            "Happy\n",
            "Happy\n",
            "Happy\n",
            "Neutral\n",
            "Neutral\n",
            "Neutral\n",
            "Neutral\n",
            "Neutral\n",
            "Neutral\n",
            "Neutral\n",
            "Neutral\n",
            "Neutral\n",
            "Neutral\n",
            "Neutral\n",
            "Neutral\n",
            "Neutral\n",
            "Neutral\n",
            "Neutral\n",
            "Neutral\n",
            "Neutral\n",
            "Neutral\n",
            "Neutral\n",
            "Neutral\n",
            "Neutral\n",
            "Neutral\n",
            "Neutral\n",
            "Neutral\n",
            "Neutral\n",
            "Neutral\n",
            "Neutral\n",
            "Neutral\n",
            "Neutral\n",
            "Neutral\n",
            "Sad\n",
            "Sad\n",
            "Sad\n",
            "Sad\n",
            "Sad\n",
            "Sad\n",
            "Sad\n",
            "Sad\n",
            "Sad\n",
            "Sad\n",
            "Sad\n",
            "Sad\n",
            "Sad\n",
            "Sad\n",
            "Sad\n",
            "Sad\n",
            "Sad\n",
            "Sad\n",
            "Sad\n",
            "Sad\n",
            "Sad\n",
            "Sad\n",
            "Sad\n",
            "Sad\n",
            "Sad\n",
            "Sad\n",
            "Sad\n",
            "Sad\n",
            "Sad\n",
            "Sad\n",
            "Surprise\n",
            "Surprise\n",
            "Surprise\n",
            "Surprise\n",
            "Surprise\n",
            "Surprise\n",
            "Surprise\n",
            "Surprise\n",
            "Surprise\n",
            "Surprise\n",
            "Surprise\n",
            "Surprise\n",
            "Surprise\n",
            "Surprise\n",
            "Surprise\n",
            "Surprise\n",
            "Surprise\n",
            "Surprise\n",
            "Surprise\n",
            "Surprise\n",
            "Surprise\n",
            "Surprise\n",
            "Surprise\n",
            "Surprise\n",
            "Surprise\n",
            "Surprise\n",
            "Surprise\n",
            "Surprise\n",
            "Surprise\n",
            "Surprise\n"
          ]
        },
        {
          "output_type": "execute_result",
          "data": {
            "text/plain": [
              "(221, 200, 200, 3)"
            ]
          },
          "metadata": {},
          "execution_count": 124
        }
      ]
    },
    {
      "cell_type": "code",
      "source": [
        "for label in y:\n",
        "  print(label)"
      ],
      "metadata": {
        "id": "ZfGRbIM_OGmc",
        "colab": {
          "base_uri": "https://localhost:8080/"
        },
        "outputId": "b02a281c-037d-45c5-fc60-9d1fed4fa0a0"
      },
      "execution_count": 125,
      "outputs": [
        {
          "output_type": "stream",
          "name": "stdout",
          "text": [
            "0\n",
            "0\n",
            "0\n",
            "0\n",
            "0\n",
            "0\n",
            "0\n",
            "0\n",
            "0\n",
            "0\n",
            "0\n",
            "0\n",
            "0\n",
            "0\n",
            "0\n",
            "0\n",
            "0\n",
            "0\n",
            "0\n",
            "0\n",
            "0\n",
            "0\n",
            "0\n",
            "0\n",
            "0\n",
            "0\n",
            "0\n",
            "0\n",
            "0\n",
            "0\n",
            "0\n",
            "0\n",
            "0\n",
            "0\n",
            "0\n",
            "0\n",
            "0\n",
            "1\n",
            "1\n",
            "1\n",
            "1\n",
            "1\n",
            "1\n",
            "1\n",
            "1\n",
            "1\n",
            "1\n",
            "1\n",
            "1\n",
            "1\n",
            "1\n",
            "1\n",
            "1\n",
            "1\n",
            "1\n",
            "1\n",
            "1\n",
            "1\n",
            "1\n",
            "1\n",
            "1\n",
            "1\n",
            "1\n",
            "2\n",
            "2\n",
            "2\n",
            "2\n",
            "2\n",
            "2\n",
            "2\n",
            "2\n",
            "2\n",
            "2\n",
            "2\n",
            "2\n",
            "2\n",
            "2\n",
            "2\n",
            "2\n",
            "2\n",
            "2\n",
            "2\n",
            "2\n",
            "2\n",
            "2\n",
            "2\n",
            "2\n",
            "2\n",
            "2\n",
            "2\n",
            "2\n",
            "2\n",
            "2\n",
            "3\n",
            "3\n",
            "3\n",
            "3\n",
            "3\n",
            "3\n",
            "3\n",
            "3\n",
            "3\n",
            "3\n",
            "3\n",
            "3\n",
            "3\n",
            "3\n",
            "3\n",
            "3\n",
            "3\n",
            "3\n",
            "3\n",
            "3\n",
            "3\n",
            "3\n",
            "3\n",
            "3\n",
            "3\n",
            "3\n",
            "3\n",
            "3\n",
            "3\n",
            "3\n",
            "3\n",
            "3\n",
            "3\n",
            "3\n",
            "3\n",
            "3\n",
            "3\n",
            "3\n",
            "4\n",
            "4\n",
            "4\n",
            "4\n",
            "4\n",
            "4\n",
            "4\n",
            "4\n",
            "4\n",
            "4\n",
            "4\n",
            "4\n",
            "4\n",
            "4\n",
            "4\n",
            "4\n",
            "4\n",
            "4\n",
            "4\n",
            "4\n",
            "4\n",
            "4\n",
            "4\n",
            "4\n",
            "4\n",
            "4\n",
            "4\n",
            "4\n",
            "4\n",
            "4\n",
            "5\n",
            "5\n",
            "5\n",
            "5\n",
            "5\n",
            "5\n",
            "5\n",
            "5\n",
            "5\n",
            "5\n",
            "5\n",
            "5\n",
            "5\n",
            "5\n",
            "5\n",
            "5\n",
            "5\n",
            "5\n",
            "5\n",
            "5\n",
            "5\n",
            "5\n",
            "5\n",
            "5\n",
            "5\n",
            "5\n",
            "5\n",
            "5\n",
            "5\n",
            "5\n",
            "6\n",
            "6\n",
            "6\n",
            "6\n",
            "6\n",
            "6\n",
            "6\n",
            "6\n",
            "6\n",
            "6\n",
            "6\n",
            "6\n",
            "6\n",
            "6\n",
            "6\n",
            "6\n",
            "6\n",
            "6\n",
            "6\n",
            "6\n",
            "6\n",
            "6\n",
            "6\n",
            "6\n",
            "6\n",
            "6\n",
            "6\n",
            "6\n",
            "6\n",
            "6\n"
          ]
        }
      ]
    },
    {
      "cell_type": "code",
      "source": [
        "plt.figure(figsize=(8, 3))\n",
        "g = sns.countplot(x = y)\n",
        "g.set_xticks(range(len(list(labels.keys()))))\n",
        "g.set_xticklabels(list(labels.keys()))\n",
        "plt.title('Data Imbalance')\n",
        "# plt.xlabel('emotions')\n",
        "plt.ylabel('Count')"
      ],
      "metadata": {
        "colab": {
          "base_uri": "https://localhost:8080/",
          "height": 332
        },
        "id": "5P17xgXbc5AN",
        "outputId": "f687786f-3c57-48ad-ae42-62c215088add"
      },
      "execution_count": 126,
      "outputs": [
        {
          "output_type": "execute_result",
          "data": {
            "text/plain": [
              "Text(0, 0.5, 'Count')"
            ]
          },
          "metadata": {},
          "execution_count": 126
        },
        {
          "output_type": "display_data",
          "data": {
            "text/plain": [
              "<Figure size 800x300 with 1 Axes>"
            ],
            "image/png": "[encoded data removed]"
          },
          "metadata": {}
        }
      ]
    },
    {
      "cell_type": "code",
      "source": [
        "X_train, X_test, y_train, y_test = train_test_split(X, y, test_size=0.3, random_state=42)\n",
        "print(X_train.shape)\n",
        "print(X_test.shape)\n",
        "print(y_train.shape)"
      ],
      "metadata": {
        "colab": {
          "base_uri": "https://localhost:8080/"
        },
        "id": "YRONhh-ZX06H",
        "outputId": "fb59aac8-4648-48b4-d8ab-bc511da0d900"
      },
      "execution_count": 127,
      "outputs": [
        {
          "output_type": "stream",
          "name": "stdout",
          "text": [
            "(154, 200, 200, 3)\n",
            "(67, 200, 200, 3)\n",
            "(154,)\n"
          ]
        }
      ]
    },
    {
      "cell_type": "code",
      "source": [
        "# codificar a estilo one-hot las salidas\n",
        "\n",
        "y_train=to_categorical(y_train)\n",
        "y_test=to_categorical(y_test)\n",
        "\n",
        "num_classes = y_test.shape[1]\n",
        "y_test.shape[1]"
      ],
      "metadata": {
        "colab": {
          "base_uri": "https://localhost:8080/"
        },
        "id": "YTfHRWcmPZee",
        "outputId": "2ee906e8-853a-4d85-b02c-e42c9f9d3dfd"
      },
      "execution_count": 128,
      "outputs": [
        {
          "output_type": "execute_result",
          "data": {
            "text/plain": [
              "7"
            ]
          },
          "metadata": {},
          "execution_count": 128
        }
      ]
    },
    {
      "cell_type": "code",
      "source": [
        "# definimos una CNN simple\n",
        "def baseline_model():\n",
        "  # creamos el modelo\n",
        "  model = Sequential()\n",
        "  model.add(Conv2D(32, (5, 5), padding='same', input_shape=(200, 200, 3), activation='relu'))\n",
        "  model.add(MaxPooling2D())\n",
        "  model.add(Dropout(0.2))\n",
        "  model.add(Conv2D(64, (3, 3), padding='same', activation='relu'))\n",
        "  model.add(MaxPooling2D())\n",
        "  model.add(Dropout(0.2))\n",
        "  model.add(Conv2D(128, (3, 3), padding='same', activation='relu'))\n",
        "  model.add(MaxPooling2D())\n",
        "  model.add(Dropout(0.2))\n",
        "  model.add(Conv2D(128, (3, 3), padding='same', activation='relu'))\n",
        "  model.add(MaxPooling2D())\n",
        "  model.add(Flatten())\n",
        "  model.add(Dense(64, activation='relu'))\n",
        "  model.add(Dropout(0.2))\n",
        "  model.add(Dense(128, activation='relu'))\n",
        "  model.add(Dense(num_classes, activation='softmax'))\n",
        "  # Compilamos el modelo\n",
        "  model.compile(loss='categorical_crossentropy', optimizer='adam', metrics=['accuracy'])\n",
        "  return model"
      ],
      "metadata": {
        "id": "0fftzOIuPZc8"
      },
      "execution_count": 129,
      "outputs": []
    },
    {
      "cell_type": "code",
      "source": [
        "# construimos el modelo\n",
        "model = baseline_model()\n",
        "model.summary()"
      ],
      "metadata": {
        "colab": {
          "base_uri": "https://localhost:8080/"
        },
        "id": "8floJgI0PZaY",
        "outputId": "3bbe161d-093b-4ede-9613-2f5e36b4d597"
      },
      "execution_count": null,
      "outputs": [
        {
          "output_type": "stream",
          "name": "stdout",
          "text": [
            "Model: \"sequential_31\"\n",
            "_________________________________________________________________\n",
            " Layer (type)                Output Shape              Param #   \n",
            "=================================================================\n",
            " conv2d_149 (Conv2D)         (None, 200, 200, 32)      2432      \n",
            "                                                                 \n",
            " max_pooling2d_112 (MaxPool  (None, 100, 100, 32)      0         \n",
            " ing2D)                                                          \n",
            "                                                                 \n",
            " dropout_104 (Dropout)       (None, 100, 100, 32)      0         \n",
            "                                                                 \n",
            " conv2d_150 (Conv2D)         (None, 100, 100, 64)      18496     \n",
            "                                                                 \n",
            " max_pooling2d_113 (MaxPool  (None, 50, 50, 64)        0         \n",
            " ing2D)                                                          \n",
            "                                                                 \n",
            " dropout_105 (Dropout)       (None, 50, 50, 64)        0         \n",
            "                                                                 \n",
            " conv2d_151 (Conv2D)         (None, 50, 50, 128)       73856     \n",
            "                                                                 \n",
            " max_pooling2d_114 (MaxPool  (None, 25, 25, 128)       0         \n",
            " ing2D)                                                          \n",
            "                                                                 \n",
            " dropout_106 (Dropout)       (None, 25, 25, 128)       0         \n",
            "                                                                 \n",
            " conv2d_152 (Conv2D)         (None, 25, 25, 128)       147584    \n",
            "                                                                 \n",
            " max_pooling2d_115 (MaxPool  (None, 12, 12, 128)       0         \n",
            " ing2D)                                                          \n",
            "                                                                 \n",
            " flatten_31 (Flatten)        (None, 18432)             0         \n",
            "                                                                 \n",
            " dense_75 (Dense)            (None, 64)                1179712   \n",
            "                                                                 \n",
            " dropout_107 (Dropout)       (None, 64)                0         \n",
            "                                                                 \n",
            " dense_76 (Dense)            (None, 128)               8320      \n",
            "                                                                 \n",
            " dense_77 (Dense)            (None, 7)                 903       \n",
            "                                                                 \n",
            "=================================================================\n",
            "Total params: 1431303 (5.46 MB)\n",
            "Trainable params: 1431303 (5.46 MB)\n",
            "Non-trainable params: 0 (0.00 Byte)\n",
            "_________________________________________________________________\n"
          ]
        }
      ]
    },
    {
      "cell_type": "code",
      "source": [
        "# entrenamos el modelo\n",
        "history=model.fit(X_train, y_train, validation_data=(X_test, y_test), epochs=20, batch_size=20)"
      ],
      "metadata": {
        "colab": {
          "base_uri": "https://localhost:8080/"
        },
        "id": "Zg7QMFnMPZX2",
        "outputId": "50f83bb6-504c-46e5-c881-d989d7a5175a"
      },
      "execution_count": null,
      "outputs": [
        {
          "output_type": "stream",
          "name": "stdout",
          "text": [
            "Epoch 1/20\n",
            "8/8 [==============================] - 3s 102ms/step - loss: 59.6436 - accuracy: 0.1753 - val_loss: 2.0229 - val_accuracy: 0.1343\n",
            "Epoch 2/20\n",
            "8/8 [==============================] - 0s 56ms/step - loss: 2.2417 - accuracy: 0.1948 - val_loss: 1.9481 - val_accuracy: 0.1045\n",
            "Epoch 3/20\n",
            "8/8 [==============================] - 0s 58ms/step - loss: 1.9650 - accuracy: 0.1299 - val_loss: 1.9393 - val_accuracy: 0.1493\n",
            "Epoch 4/20\n",
            "8/8 [==============================] - 0s 57ms/step - loss: 1.9343 - accuracy: 0.2013 - val_loss: 1.9450 - val_accuracy: 0.1493\n",
            "Epoch 5/20\n",
            "8/8 [==============================] - 0s 52ms/step - loss: 1.9177 - accuracy: 0.2013 - val_loss: 1.9351 - val_accuracy: 0.2090\n",
            "Epoch 6/20\n",
            "8/8 [==============================] - 0s 58ms/step - loss: 1.8638 - accuracy: 0.2208 - val_loss: 1.9384 - val_accuracy: 0.1493\n",
            "Epoch 7/20\n",
            "8/8 [==============================] - 0s 58ms/step - loss: 1.8690 - accuracy: 0.2273 - val_loss: 1.9351 - val_accuracy: 0.1642\n",
            "Epoch 8/20\n",
            "8/8 [==============================] - 0s 53ms/step - loss: 1.7188 - accuracy: 0.3247 - val_loss: 1.8890 - val_accuracy: 0.1791\n",
            "Epoch 9/20\n",
            "8/8 [==============================] - 0s 59ms/step - loss: 1.7820 - accuracy: 0.3052 - val_loss: 1.9188 - val_accuracy: 0.1940\n",
            "Epoch 10/20\n",
            "8/8 [==============================] - 0s 49ms/step - loss: 1.6049 - accuracy: 0.3961 - val_loss: 1.8783 - val_accuracy: 0.2239\n",
            "Epoch 11/20\n",
            "8/8 [==============================] - 0s 49ms/step - loss: 1.4859 - accuracy: 0.4481 - val_loss: 1.8763 - val_accuracy: 0.2537\n",
            "Epoch 12/20\n",
            "8/8 [==============================] - 0s 50ms/step - loss: 1.3710 - accuracy: 0.4610 - val_loss: 1.8045 - val_accuracy: 0.3134\n",
            "Epoch 13/20\n",
            "8/8 [==============================] - 0s 54ms/step - loss: 1.3515 - accuracy: 0.4870 - val_loss: 1.9081 - val_accuracy: 0.1940\n",
            "Epoch 14/20\n",
            "8/8 [==============================] - 0s 53ms/step - loss: 1.4516 - accuracy: 0.4481 - val_loss: 1.8741 - val_accuracy: 0.2239\n",
            "Epoch 15/20\n",
            "8/8 [==============================] - 0s 50ms/step - loss: 1.1062 - accuracy: 0.6104 - val_loss: 1.8505 - val_accuracy: 0.2985\n",
            "Epoch 16/20\n",
            "8/8 [==============================] - 0s 49ms/step - loss: 0.9212 - accuracy: 0.6558 - val_loss: 1.7984 - val_accuracy: 0.2687\n",
            "Epoch 17/20\n",
            "8/8 [==============================] - 0s 49ms/step - loss: 0.6701 - accuracy: 0.7597 - val_loss: 1.9298 - val_accuracy: 0.2687\n",
            "Epoch 18/20\n",
            "8/8 [==============================] - 0s 53ms/step - loss: 0.6733 - accuracy: 0.7338 - val_loss: 1.9589 - val_accuracy: 0.3284\n",
            "Epoch 19/20\n",
            "8/8 [==============================] - 0s 54ms/step - loss: 0.5700 - accuracy: 0.8052 - val_loss: 1.9352 - val_accuracy: 0.3284\n",
            "Epoch 20/20\n",
            "8/8 [==============================] - 0s 49ms/step - loss: 0.4919 - accuracy: 0.8312 - val_loss: 2.1582 - val_accuracy: 0.3134\n"
          ]
        }
      ]
    },
    {
      "cell_type": "code",
      "source": [
        "history_dict = history.history"
      ],
      "metadata": {
        "id": "VzOjzZDvdgf7"
      },
      "execution_count": null,
      "outputs": []
    },
    {
      "cell_type": "code",
      "source": [
        "history_dict.keys()"
      ],
      "metadata": {
        "colab": {
          "base_uri": "https://localhost:8080/"
        },
        "id": "9J_7fU5NdgaP",
        "outputId": "cbb38e62-9eee-41e9-b32b-b66a0b45edbe"
      },
      "execution_count": null,
      "outputs": [
        {
          "output_type": "execute_result",
          "data": {
            "text/plain": [
              "dict_keys(['loss', 'accuracy', 'val_loss', 'val_accuracy'])"
            ]
          },
          "metadata": {},
          "execution_count": 286
        }
      ]
    },
    {
      "cell_type": "code",
      "source": [
        "import matplotlib.pyplot as plt\n",
        "\n",
        "plt.plot(history.history['accuracy'])\n",
        "plt.plot(history.history['val_accuracy'])\n",
        "plt.title('model accuracy')\n",
        "plt.ylabel('accuracy')\n",
        "plt.xlabel('epoch')\n",
        "plt.legend(['train', 'val'], loc='upper left')\n",
        "plt.show()"
      ],
      "metadata": {
        "colab": {
          "base_uri": "https://localhost:8080/",
          "height": 472
        },
        "id": "2P63nCtfdgVr",
        "outputId": "bf829261-c8e0-4a5a-a263-d14b8c6a68bd"
      },
      "execution_count": null,
      "outputs": [
        {
          "output_type": "display_data",
          "data": {
            "text/plain": [
              "<Figure size 640x480 with 1 Axes>"
            ],
            "image/png": "[encoded data removed]"
          },
          "metadata": {}
        }
      ]
    },
    {
      "cell_type": "code",
      "source": [
        "#evaluate the keras model\n",
        "_, accuracy_tr = model.evaluate(X_train, y_train)\n",
        "_, accuracy_ts= model.evaluate(X_test, y_test)\n",
        "print('Accuracy train: %.2f' % (accuracy_tr*100))\n",
        "print('Accuracy test: %.2f' % (accuracy_ts*100))"
      ],
      "metadata": {
        "colab": {
          "base_uri": "https://localhost:8080/"
        },
        "id": "ibvcdI7f_FFa",
        "outputId": "760ea72e-22e8-43e0-cd45-3cb28eedbc6f"
      },
      "execution_count": null,
      "outputs": [
        {
          "output_type": "stream",
          "name": "stdout",
          "text": [
            "5/5 [==============================] - 0s 12ms/step - loss: 0.5723 - accuracy: 0.9091\n",
            "3/3 [==============================] - 0s 10ms/step - loss: 2.1582 - accuracy: 0.3134\n",
            "Accuracy train: 90.91\n",
            "Accuracy test: 31.34\n"
          ]
        }
      ]
    },
    {
      "cell_type": "markdown",
      "source": [
        "### Data Augmentation"
      ],
      "metadata": {
        "id": "JdXvLnSRjsxe"
      }
    },
    {
      "cell_type": "code",
      "source": [
        "img_gen = tf.keras.preprocessing.image.ImageDataGenerator(\n",
        "    # rescale=1./255,\n",
        "    rotation_range = 25,\n",
        "    width_shift_range = 0.2,\n",
        "    height_shift_range = 0.2,\n",
        "    vertical_flip = True,\n",
        "    horizontal_flip = True,\n",
        "    )\n",
        "\n",
        "# img_gen.fit(X_train)\n",
        "augmented_data_generator  = img_gen.flow(X_train, y_train, batch_size=300)\n",
        "batch = augmented_data_generator.next()"
      ],
      "metadata": {
        "id": "yz5Sm2didgTK"
      },
      "execution_count": 130,
      "outputs": []
    },
    {
      "cell_type": "code",
      "source": [
        "imagen = Image.fromarray(np.uint8(batch[0][153]))\n",
        "imagen"
      ],
      "metadata": {
        "colab": {
          "base_uri": "https://localhost:8080/",
          "height": 217
        },
        "id": "oRtzSM77jyAg",
        "outputId": "5c4274e7-b8ae-482b-d552-e17e277a33ea"
      },
      "execution_count": 131,
      "outputs": [
        {
          "output_type": "execute_result",
          "data": {
            "text/plain": [
              "<PIL.Image.Image image mode=RGB size=200x200>"
            ],
            "image/png": "[encoded data removed]"
          },
          "metadata": {},
          "execution_count": 131
        }
      ]
    },
    {
      "cell_type": "code",
      "source": [
        "imagen = Image.fromarray(np.uint8(batch[0][72]))\n",
        "imagen"
      ],
      "metadata": {
        "colab": {
          "base_uri": "https://localhost:8080/",
          "height": 217
        },
        "id": "SL_FP_BzCdto",
        "outputId": "2cc8853f-122a-4085-9408-eb41afc2cb0c"
      },
      "execution_count": 132,
      "outputs": [
        {
          "output_type": "execute_result",
          "data": {
            "text/plain": [
              "<PIL.Image.Image image mode=RGB size=200x200>"
            ],
            "image/png": "[encoded data removed]"
          },
          "metadata": {},
          "execution_count": 132
        }
      ]
    },
    {
      "cell_type": "code",
      "source": [
        "X_train_aug = np.concatenate((X_train, batch[0]), axis=0)\n",
        "y_train_aug = np.concatenate((y_train, batch[1]), axis=0)"
      ],
      "metadata": {
        "id": "TFLIVGWSkRFr"
      },
      "execution_count": 133,
      "outputs": []
    },
    {
      "cell_type": "code",
      "source": [
        "X_train_aug.shape"
      ],
      "metadata": {
        "colab": {
          "base_uri": "https://localhost:8080/"
        },
        "id": "ziM8Ga5rkRCc",
        "outputId": "df7a87f6-acdb-40d2-ba5e-53b68351457d"
      },
      "execution_count": 134,
      "outputs": [
        {
          "output_type": "execute_result",
          "data": {
            "text/plain": [
              "(308, 200, 200, 3)"
            ]
          },
          "metadata": {},
          "execution_count": 134
        }
      ]
    },
    {
      "cell_type": "code",
      "source": [
        "y_train_aug.shape"
      ],
      "metadata": {
        "colab": {
          "base_uri": "https://localhost:8080/"
        },
        "id": "EFDORBBalaa8",
        "outputId": "abe715ae-ed1c-4d88-818d-3d3d5102dc1c"
      },
      "execution_count": 135,
      "outputs": [
        {
          "output_type": "execute_result",
          "data": {
            "text/plain": [
              "(308, 7)"
            ]
          },
          "metadata": {},
          "execution_count": 135
        }
      ]
    },
    {
      "cell_type": "code",
      "source": [
        "# definimos una CNN simple\n",
        "def baseline_model():\n",
        "  # creamos el modelo\n",
        "  model = Sequential()\n",
        "  model.add(Conv2D(32, (5, 5), padding='same', input_shape=(200, 200, 3), activation='relu'))\n",
        "  model.add(MaxPooling2D())\n",
        "  model.add(Dropout(0.4))\n",
        "  model.add(Conv2D(128, (3, 3), padding='same', activation='relu'))\n",
        "  model.add(MaxPooling2D())\n",
        "  model.add(Dropout(0.3))\n",
        "  model.add(Conv2D(128, (3, 3), padding='same', activation='relu'))\n",
        "  model.add(MaxPooling2D())\n",
        "  model.add(Dropout(0.2))\n",
        "  model.add(Conv2D(128, (3, 3), padding='same', activation='relu'))\n",
        "  model.add(MaxPooling2D())\n",
        "  model.add(Dropout(0.2))\n",
        "  model.add(Conv2D(128, (3, 3), padding='same', activation='relu'))\n",
        "  model.add(MaxPooling2D())\n",
        "  model.add(Flatten())\n",
        "  model.add(Dense(128, activation='relu'))\n",
        "  model.add(Dropout(0.2))\n",
        "  model.add(Dense(128, activation='relu'))\n",
        "  model.add(Dense(num_classes, activation='softmax'))\n",
        "  # Compilamos el modelo\n",
        "  model.compile(loss='categorical_crossentropy', optimizer='adam', metrics=['accuracy'])\n",
        "  return model"
      ],
      "metadata": {
        "id": "D0RpMoyP9LCB"
      },
      "execution_count": 136,
      "outputs": []
    },
    {
      "cell_type": "code",
      "source": [
        "# construimos el modelo\n",
        "model = baseline_model()\n",
        "model.summary()"
      ],
      "metadata": {
        "colab": {
          "base_uri": "https://localhost:8080/"
        },
        "id": "6xcSmTkU2NcX",
        "outputId": "dd6295a2-3b50-4eec-f10d-73650ed7c469"
      },
      "execution_count": 137,
      "outputs": [
        {
          "output_type": "stream",
          "name": "stdout",
          "text": [
            "Model: \"sequential_21\"\n",
            "_________________________________________________________________\n",
            " Layer (type)                Output Shape              Param #   \n",
            "=================================================================\n",
            " conv2d_124 (Conv2D)         (None, 200, 200, 32)      2432      \n",
            "                                                                 \n",
            " max_pooling2d_87 (MaxPooli  (None, 100, 100, 32)      0         \n",
            " ng2D)                                                           \n",
            "                                                                 \n",
            " dropout_79 (Dropout)        (None, 100, 100, 32)      0         \n",
            "                                                                 \n",
            " conv2d_125 (Conv2D)         (None, 100, 100, 128)     36992     \n",
            "                                                                 \n",
            " max_pooling2d_88 (MaxPooli  (None, 50, 50, 128)       0         \n",
            " ng2D)                                                           \n",
            "                                                                 \n",
            " dropout_80 (Dropout)        (None, 50, 50, 128)       0         \n",
            "                                                                 \n",
            " conv2d_126 (Conv2D)         (None, 50, 50, 128)       147584    \n",
            "                                                                 \n",
            " max_pooling2d_89 (MaxPooli  (None, 25, 25, 128)       0         \n",
            " ng2D)                                                           \n",
            "                                                                 \n",
            " dropout_81 (Dropout)        (None, 25, 25, 128)       0         \n",
            "                                                                 \n",
            " conv2d_127 (Conv2D)         (None, 25, 25, 128)       147584    \n",
            "                                                                 \n",
            " max_pooling2d_90 (MaxPooli  (None, 12, 12, 128)       0         \n",
            " ng2D)                                                           \n",
            "                                                                 \n",
            " dropout_82 (Dropout)        (None, 12, 12, 128)       0         \n",
            "                                                                 \n",
            " conv2d_128 (Conv2D)         (None, 12, 12, 128)       147584    \n",
            "                                                                 \n",
            " max_pooling2d_91 (MaxPooli  (None, 6, 6, 128)         0         \n",
            " ng2D)                                                           \n",
            "                                                                 \n",
            " flatten_21 (Flatten)        (None, 4608)              0         \n",
            "                                                                 \n",
            " dense_45 (Dense)            (None, 128)               589952    \n",
            "                                                                 \n",
            " dropout_83 (Dropout)        (None, 128)               0         \n",
            "                                                                 \n",
            " dense_46 (Dense)            (None, 128)               16512     \n",
            "                                                                 \n",
            " dense_47 (Dense)            (None, 7)                 903       \n",
            "                                                                 \n",
            "=================================================================\n",
            "Total params: 1089543 (4.16 MB)\n",
            "Trainable params: 1089543 (4.16 MB)\n",
            "Non-trainable params: 0 (0.00 Byte)\n",
            "_________________________________________________________________\n"
          ]
        }
      ]
    },
    {
      "cell_type": "code",
      "source": [
        "# entrenamos el modelo\n",
        "history2=model.fit(X_train_aug, y_train_aug, validation_data=(X_test, y_test), epochs=50, batch_size=50)"
      ],
      "metadata": {
        "colab": {
          "base_uri": "https://localhost:8080/"
        },
        "id": "-f37azrrnBqP",
        "outputId": "c98181dc-670e-45b9-c468-9ea4a6c50296"
      },
      "execution_count": 138,
      "outputs": [
        {
          "output_type": "stream",
          "name": "stdout",
          "text": [
            "Epoch 1/50\n",
            "7/7 [==============================] - 3s 186ms/step - loss: 45.5911 - accuracy: 0.1234 - val_loss: 1.9124 - val_accuracy: 0.1343\n",
            "Epoch 2/50\n",
            "7/7 [==============================] - 1s 142ms/step - loss: 2.0813 - accuracy: 0.1623 - val_loss: 1.9427 - val_accuracy: 0.1493\n",
            "Epoch 3/50\n",
            "7/7 [==============================] - 1s 142ms/step - loss: 1.9393 - accuracy: 0.1591 - val_loss: 1.9446 - val_accuracy: 0.1493\n",
            "Epoch 4/50\n",
            "7/7 [==============================] - 1s 140ms/step - loss: 1.9455 - accuracy: 0.1558 - val_loss: 1.9448 - val_accuracy: 0.1493\n",
            "Epoch 5/50\n",
            "7/7 [==============================] - 1s 138ms/step - loss: 1.9460 - accuracy: 0.1558 - val_loss: 1.9446 - val_accuracy: 0.1493\n",
            "Epoch 6/50\n",
            "7/7 [==============================] - 1s 143ms/step - loss: 1.9459 - accuracy: 0.1526 - val_loss: 1.9434 - val_accuracy: 0.1493\n",
            "Epoch 7/50\n",
            "7/7 [==============================] - 1s 147ms/step - loss: 1.9406 - accuracy: 0.1786 - val_loss: 1.9419 - val_accuracy: 0.1642\n",
            "Epoch 8/50\n",
            "7/7 [==============================] - 1s 149ms/step - loss: 1.9371 - accuracy: 0.1948 - val_loss: 1.9406 - val_accuracy: 0.2090\n",
            "Epoch 9/50\n",
            "7/7 [==============================] - 1s 146ms/step - loss: 1.9309 - accuracy: 0.1786 - val_loss: 1.9382 - val_accuracy: 0.2090\n",
            "Epoch 10/50\n",
            "7/7 [==============================] - 1s 137ms/step - loss: 1.9364 - accuracy: 0.1883 - val_loss: 1.9362 - val_accuracy: 0.1791\n",
            "Epoch 11/50\n",
            "7/7 [==============================] - 1s 137ms/step - loss: 1.9216 - accuracy: 0.1883 - val_loss: 1.9428 - val_accuracy: 0.1493\n",
            "Epoch 12/50\n",
            "7/7 [==============================] - 1s 141ms/step - loss: 1.9233 - accuracy: 0.2045 - val_loss: 1.9403 - val_accuracy: 0.1493\n",
            "Epoch 13/50\n",
            "7/7 [==============================] - 1s 141ms/step - loss: 1.9216 - accuracy: 0.1948 - val_loss: 1.9350 - val_accuracy: 0.1493\n",
            "Epoch 14/50\n",
            "7/7 [==============================] - 1s 141ms/step - loss: 1.9056 - accuracy: 0.2403 - val_loss: 1.9397 - val_accuracy: 0.2090\n",
            "Epoch 15/50\n",
            "7/7 [==============================] - 1s 142ms/step - loss: 1.8848 - accuracy: 0.2305 - val_loss: 1.9228 - val_accuracy: 0.1493\n",
            "Epoch 16/50\n",
            "7/7 [==============================] - 1s 138ms/step - loss: 1.8538 - accuracy: 0.2597 - val_loss: 1.9099 - val_accuracy: 0.1940\n",
            "Epoch 17/50\n",
            "7/7 [==============================] - 1s 140ms/step - loss: 1.8186 - accuracy: 0.2532 - val_loss: 1.8951 - val_accuracy: 0.2836\n",
            "Epoch 18/50\n",
            "7/7 [==============================] - 1s 141ms/step - loss: 1.7950 - accuracy: 0.2890 - val_loss: 1.9166 - val_accuracy: 0.2687\n",
            "Epoch 19/50\n",
            "7/7 [==============================] - 1s 139ms/step - loss: 1.8178 - accuracy: 0.2987 - val_loss: 1.9107 - val_accuracy: 0.3284\n",
            "Epoch 20/50\n",
            "7/7 [==============================] - 1s 141ms/step - loss: 1.8038 - accuracy: 0.3149 - val_loss: 1.8858 - val_accuracy: 0.2090\n",
            "Epoch 21/50\n",
            "7/7 [==============================] - 1s 151ms/step - loss: 1.7348 - accuracy: 0.3344 - val_loss: 1.8628 - val_accuracy: 0.3134\n",
            "Epoch 22/50\n",
            "7/7 [==============================] - 1s 149ms/step - loss: 1.7063 - accuracy: 0.3539 - val_loss: 1.8749 - val_accuracy: 0.2836\n",
            "Epoch 23/50\n",
            "7/7 [==============================] - 1s 148ms/step - loss: 1.6544 - accuracy: 0.3734 - val_loss: 1.8104 - val_accuracy: 0.3284\n",
            "Epoch 24/50\n",
            "7/7 [==============================] - 1s 143ms/step - loss: 1.5328 - accuracy: 0.4026 - val_loss: 1.8090 - val_accuracy: 0.2985\n",
            "Epoch 25/50\n",
            "7/7 [==============================] - 1s 141ms/step - loss: 1.5514 - accuracy: 0.3831 - val_loss: 1.8239 - val_accuracy: 0.2239\n",
            "Epoch 26/50\n",
            "7/7 [==============================] - 1s 139ms/step - loss: 1.5271 - accuracy: 0.4123 - val_loss: 1.7696 - val_accuracy: 0.3731\n",
            "Epoch 27/50\n",
            "7/7 [==============================] - 1s 142ms/step - loss: 1.4939 - accuracy: 0.4448 - val_loss: 1.7935 - val_accuracy: 0.2985\n",
            "Epoch 28/50\n",
            "7/7 [==============================] - 1s 142ms/step - loss: 1.4240 - accuracy: 0.4740 - val_loss: 1.7908 - val_accuracy: 0.3731\n",
            "Epoch 29/50\n",
            "7/7 [==============================] - 1s 137ms/step - loss: 1.3351 - accuracy: 0.4968 - val_loss: 1.7998 - val_accuracy: 0.3433\n",
            "Epoch 30/50\n",
            "7/7 [==============================] - 1s 137ms/step - loss: 1.3656 - accuracy: 0.4805 - val_loss: 1.8267 - val_accuracy: 0.2537\n",
            "Epoch 31/50\n",
            "7/7 [==============================] - 1s 140ms/step - loss: 1.3348 - accuracy: 0.5227 - val_loss: 1.8672 - val_accuracy: 0.2537\n",
            "Epoch 32/50\n",
            "7/7 [==============================] - 1s 139ms/step - loss: 1.3538 - accuracy: 0.4513 - val_loss: 1.8376 - val_accuracy: 0.2537\n",
            "Epoch 33/50\n",
            "7/7 [==============================] - 1s 137ms/step - loss: 1.3000 - accuracy: 0.5292 - val_loss: 1.8234 - val_accuracy: 0.2985\n",
            "Epoch 34/50\n",
            "7/7 [==============================] - 1s 144ms/step - loss: 1.2817 - accuracy: 0.5519 - val_loss: 1.8007 - val_accuracy: 0.3134\n",
            "Epoch 35/50\n",
            "7/7 [==============================] - 1s 148ms/step - loss: 1.1808 - accuracy: 0.5357 - val_loss: 1.7940 - val_accuracy: 0.3134\n",
            "Epoch 36/50\n",
            "7/7 [==============================] - 1s 143ms/step - loss: 1.0980 - accuracy: 0.5649 - val_loss: 1.8417 - val_accuracy: 0.3433\n",
            "Epoch 37/50\n",
            "7/7 [==============================] - 1s 143ms/step - loss: 1.0302 - accuracy: 0.6331 - val_loss: 1.8577 - val_accuracy: 0.3433\n",
            "Epoch 38/50\n",
            "7/7 [==============================] - 1s 144ms/step - loss: 0.9967 - accuracy: 0.6266 - val_loss: 1.8172 - val_accuracy: 0.3284\n",
            "Epoch 39/50\n",
            "7/7 [==============================] - 1s 139ms/step - loss: 0.9269 - accuracy: 0.6494 - val_loss: 1.7894 - val_accuracy: 0.3433\n",
            "Epoch 40/50\n",
            "7/7 [==============================] - 1s 136ms/step - loss: 0.8663 - accuracy: 0.7110 - val_loss: 1.7456 - val_accuracy: 0.4030\n",
            "Epoch 41/50\n",
            "7/7 [==============================] - 1s 136ms/step - loss: 0.9487 - accuracy: 0.6494 - val_loss: 1.7602 - val_accuracy: 0.4478\n",
            "Epoch 42/50\n",
            "7/7 [==============================] - 1s 138ms/step - loss: 0.8076 - accuracy: 0.6948 - val_loss: 2.0986 - val_accuracy: 0.3134\n",
            "Epoch 43/50\n",
            "7/7 [==============================] - 1s 139ms/step - loss: 0.9537 - accuracy: 0.6364 - val_loss: 1.8089 - val_accuracy: 0.3881\n",
            "Epoch 44/50\n",
            "7/7 [==============================] - 1s 140ms/step - loss: 0.8249 - accuracy: 0.7110 - val_loss: 1.9315 - val_accuracy: 0.3582\n",
            "Epoch 45/50\n",
            "7/7 [==============================] - 1s 139ms/step - loss: 0.6776 - accuracy: 0.7435 - val_loss: 1.9599 - val_accuracy: 0.3284\n",
            "Epoch 46/50\n",
            "7/7 [==============================] - 1s 137ms/step - loss: 0.6004 - accuracy: 0.7857 - val_loss: 2.0086 - val_accuracy: 0.4179\n",
            "Epoch 47/50\n",
            "7/7 [==============================] - 1s 137ms/step - loss: 0.6358 - accuracy: 0.7825 - val_loss: 1.9885 - val_accuracy: 0.3433\n",
            "Epoch 48/50\n",
            "7/7 [==============================] - 1s 140ms/step - loss: 0.5645 - accuracy: 0.7987 - val_loss: 1.9956 - val_accuracy: 0.3731\n",
            "Epoch 49/50\n",
            "7/7 [==============================] - 1s 145ms/step - loss: 0.4818 - accuracy: 0.8442 - val_loss: 2.1785 - val_accuracy: 0.3134\n",
            "Epoch 50/50\n",
            "7/7 [==============================] - 1s 147ms/step - loss: 0.5361 - accuracy: 0.8247 - val_loss: 2.3183 - val_accuracy: 0.3134\n"
          ]
        }
      ]
    },
    {
      "cell_type": "code",
      "source": [
        "#evaluate the keras model\n",
        "_, accuracy_tr = model.evaluate(X_train_aug, y_train_aug)\n",
        "_, accuracy_ts= model.evaluate(X_test, y_test)\n",
        "print('Accuracy train: %.2f' % (accuracy_tr*100))\n",
        "print('Accuracy test: %.2f' % (accuracy_ts*100))"
      ],
      "metadata": {
        "id": "Hi0jsxra9QIK",
        "colab": {
          "base_uri": "https://localhost:8080/"
        },
        "outputId": "f9e188e2-216d-43f1-d195-ad535a78b05f"
      },
      "execution_count": 139,
      "outputs": [
        {
          "output_type": "stream",
          "name": "stdout",
          "text": [
            "10/10 [==============================] - 0s 28ms/step - loss: 0.5137 - accuracy: 0.8831\n",
            "3/3 [==============================] - 0s 15ms/step - loss: 2.3182 - accuracy: 0.3134\n",
            "Accuracy train: 88.31\n",
            "Accuracy test: 31.34\n"
          ]
        }
      ]
    },
    {
      "cell_type": "code",
      "source": [
        "history_dict = history2.history"
      ],
      "metadata": {
        "id": "7QB1qp_O90uL"
      },
      "execution_count": 140,
      "outputs": []
    },
    {
      "cell_type": "code",
      "source": [
        "history_dict.keys()"
      ],
      "metadata": {
        "colab": {
          "base_uri": "https://localhost:8080/"
        },
        "id": "flF82Mk594Si",
        "outputId": "de8ff665-16f3-4747-e26e-879c2d8a97d4"
      },
      "execution_count": 141,
      "outputs": [
        {
          "output_type": "execute_result",
          "data": {
            "text/plain": [
              "dict_keys(['loss', 'accuracy', 'val_loss', 'val_accuracy'])"
            ]
          },
          "metadata": {},
          "execution_count": 141
        }
      ]
    },
    {
      "cell_type": "code",
      "source": [
        "import matplotlib.pyplot as plt\n",
        "\n",
        "plt.plot(history2.history['accuracy'])\n",
        "plt.plot(history2.history['val_accuracy'])\n",
        "plt.title('model accuracy')\n",
        "plt.ylabel('accuracy')\n",
        "plt.xlabel('epoch')\n",
        "plt.legend(['train', 'val'], loc='upper left')\n",
        "plt.show()"
      ],
      "metadata": {
        "colab": {
          "base_uri": "https://localhost:8080/",
          "height": 472
        },
        "id": "Ju0CyBIp94QZ",
        "outputId": "ddd91593-bdbc-408d-93cb-5d4e10598015"
      },
      "execution_count": 142,
      "outputs": [
        {
          "output_type": "display_data",
          "data": {
            "text/plain": [
              "<Figure size 640x480 with 1 Axes>"
            ],
            "image/png": "[encoded data removed]"
          },
          "metadata": {}
        }
      ]
    },
    {
      "cell_type": "markdown",
      "source": [
        "## Deepface\n"
      ],
      "metadata": {
        "id": "GvbVp2wWg7V7"
      }
    },
    {
      "cell_type": "code",
      "source": [
        "!pip install deepface"
      ],
      "metadata": {
        "colab": {
          "base_uri": "https://localhost:8080/"
        },
        "id": "ZXMA8Rw1g8dv",
        "outputId": "13da0098-0dcf-4e1f-d3da-17535c839172"
      },
      "execution_count": 37,
      "outputs": [
        {
          "output_type": "stream",
          "name": "stdout",
          "text": [
            "Requirement already satisfied: deepface in /usr/local/lib/python3.10/dist-packages (0.0.79)\n",
            "Requirement already satisfied: numpy>=1.14.0 in /usr/local/lib/python3.10/dist-packages (from deepface) (1.23.5)\n",
            "Requirement already satisfied: pandas>=0.23.4 in /usr/local/lib/python3.10/dist-packages (from deepface) (1.5.3)\n",
            "Requirement already satisfied: tqdm>=4.30.0 in /usr/local/lib/python3.10/dist-packages (from deepface) (4.66.1)\n",
            "Requirement already satisfied: gdown>=3.10.1 in /usr/local/lib/python3.10/dist-packages (from deepface) (4.6.6)\n",
            "Requirement already satisfied: Pillow>=5.2.0 in /usr/local/lib/python3.10/dist-packages (from deepface) (9.4.0)\n",
            "Requirement already satisfied: opencv-python>=4.5.5.64 in /usr/local/lib/python3.10/dist-packages (from deepface) (4.8.0.76)\n",
            "Requirement already satisfied: tensorflow>=1.9.0 in /usr/local/lib/python3.10/dist-packages (from deepface) (2.14.0)\n",
            "Requirement already satisfied: keras>=2.2.0 in /usr/local/lib/python3.10/dist-packages (from deepface) (2.14.0)\n",
            "Requirement already satisfied: Flask>=1.1.2 in /usr/local/lib/python3.10/dist-packages (from deepface) (2.2.5)\n",
            "Requirement already satisfied: mtcnn>=0.1.0 in /usr/local/lib/python3.10/dist-packages (from deepface) (0.1.1)\n",
            "Requirement already satisfied: retina-face>=0.0.1 in /usr/local/lib/python3.10/dist-packages (from deepface) (0.0.13)\n",
            "Requirement already satisfied: fire>=0.4.0 in /usr/local/lib/python3.10/dist-packages (from deepface) (0.5.0)\n",
            "Requirement already satisfied: gunicorn>=20.1.0 in /usr/local/lib/python3.10/dist-packages (from deepface) (21.2.0)\n",
            "Requirement already satisfied: six in /usr/local/lib/python3.10/dist-packages (from fire>=0.4.0->deepface) (1.16.0)\n",
            "Requirement already satisfied: termcolor in /usr/local/lib/python3.10/dist-packages (from fire>=0.4.0->deepface) (2.3.0)\n",
            "Requirement already satisfied: Werkzeug>=2.2.2 in /usr/local/lib/python3.10/dist-packages (from Flask>=1.1.2->deepface) (3.0.1)\n",
            "Requirement already satisfied: Jinja2>=3.0 in /usr/local/lib/python3.10/dist-packages (from Flask>=1.1.2->deepface) (3.1.2)\n",
            "Requirement already satisfied: itsdangerous>=2.0 in /usr/local/lib/python3.10/dist-packages (from Flask>=1.1.2->deepface) (2.1.2)\n",
            "Requirement already satisfied: click>=8.0 in /usr/local/lib/python3.10/dist-packages (from Flask>=1.1.2->deepface) (8.1.7)\n",
            "Requirement already satisfied: filelock in /usr/local/lib/python3.10/dist-packages (from gdown>=3.10.1->deepface) (3.12.4)\n",
            "Requirement already satisfied: requests[socks] in /usr/local/lib/python3.10/dist-packages (from gdown>=3.10.1->deepface) (2.31.0)\n",
            "Requirement already satisfied: beautifulsoup4 in /usr/local/lib/python3.10/dist-packages (from gdown>=3.10.1->deepface) (4.11.2)\n",
            "Requirement already satisfied: packaging in /usr/local/lib/python3.10/dist-packages (from gunicorn>=20.1.0->deepface) (23.2)\n",
            "Requirement already satisfied: python-dateutil>=2.8.1 in /usr/local/lib/python3.10/dist-packages (from pandas>=0.23.4->deepface) (2.8.2)\n",
            "Requirement already satisfied: pytz>=2020.1 in /usr/local/lib/python3.10/dist-packages (from pandas>=0.23.4->deepface) (2023.3.post1)\n",
            "Requirement already satisfied: absl-py>=1.0.0 in /usr/local/lib/python3.10/dist-packages (from tensorflow>=1.9.0->deepface) (1.4.0)\n",
            "Requirement already satisfied: astunparse>=1.6.0 in /usr/local/lib/python3.10/dist-packages (from tensorflow>=1.9.0->deepface) (1.6.3)\n",
            "Requirement already satisfied: flatbuffers>=23.5.26 in /usr/local/lib/python3.10/dist-packages (from tensorflow>=1.9.0->deepface) (23.5.26)\n",
            "Requirement already satisfied: gast!=0.5.0,!=0.5.1,!=0.5.2,>=0.2.1 in /usr/local/lib/python3.10/dist-packages (from tensorflow>=1.9.0->deepface) (0.5.4)\n",
            "Requirement already satisfied: google-pasta>=0.1.1 in /usr/local/lib/python3.10/dist-packages (from tensorflow>=1.9.0->deepface) (0.2.0)\n",
            "Requirement already satisfied: h5py>=2.9.0 in /usr/local/lib/python3.10/dist-packages (from tensorflow>=1.9.0->deepface) (3.9.0)\n",
            "Requirement already satisfied: libclang>=13.0.0 in /usr/local/lib/python3.10/dist-packages (from tensorflow>=1.9.0->deepface) (16.0.6)\n",
            "Requirement already satisfied: ml-dtypes==0.2.0 in /usr/local/lib/python3.10/dist-packages (from tensorflow>=1.9.0->deepface) (0.2.0)\n",
            "Requirement already satisfied: opt-einsum>=2.3.2 in /usr/local/lib/python3.10/dist-packages (from tensorflow>=1.9.0->deepface) (3.3.0)\n",
            "Requirement already satisfied: protobuf!=4.21.0,!=4.21.1,!=4.21.2,!=4.21.3,!=4.21.4,!=4.21.5,<5.0.0dev,>=3.20.3 in /usr/local/lib/python3.10/dist-packages (from tensorflow>=1.9.0->deepface) (3.20.3)\n",
            "Requirement already satisfied: setuptools in /usr/local/lib/python3.10/dist-packages (from tensorflow>=1.9.0->deepface) (67.7.2)\n",
            "Requirement already satisfied: typing-extensions>=3.6.6 in /usr/local/lib/python3.10/dist-packages (from tensorflow>=1.9.0->deepface) (4.5.0)\n",
            "Requirement already satisfied: wrapt<1.15,>=1.11.0 in /usr/local/lib/python3.10/dist-packages (from tensorflow>=1.9.0->deepface) (1.14.1)\n",
            "Requirement already satisfied: tensorflow-io-gcs-filesystem>=0.23.1 in /usr/local/lib/python3.10/dist-packages (from tensorflow>=1.9.0->deepface) (0.34.0)\n",
            "Requirement already satisfied: grpcio<2.0,>=1.24.3 in /usr/local/lib/python3.10/dist-packages (from tensorflow>=1.9.0->deepface) (1.59.0)\n",
            "Requirement already satisfied: tensorboard<2.15,>=2.14 in /usr/local/lib/python3.10/dist-packages (from tensorflow>=1.9.0->deepface) (2.14.1)\n",
            "Requirement already satisfied: tensorflow-estimator<2.15,>=2.14.0 in /usr/local/lib/python3.10/dist-packages (from tensorflow>=1.9.0->deepface) (2.14.0)\n",
            "Requirement already satisfied: wheel<1.0,>=0.23.0 in /usr/local/lib/python3.10/dist-packages (from astunparse>=1.6.0->tensorflow>=1.9.0->deepface) (0.41.2)\n",
            "Requirement already satisfied: MarkupSafe>=2.0 in /usr/local/lib/python3.10/dist-packages (from Jinja2>=3.0->Flask>=1.1.2->deepface) (2.1.3)\n",
            "Requirement already satisfied: google-auth<3,>=1.6.3 in /usr/local/lib/python3.10/dist-packages (from tensorboard<2.15,>=2.14->tensorflow>=1.9.0->deepface) (2.17.3)\n",
            "Requirement already satisfied: google-auth-oauthlib<1.1,>=0.5 in /usr/local/lib/python3.10/dist-packages (from tensorboard<2.15,>=2.14->tensorflow>=1.9.0->deepface) (1.0.0)\n",
            "Requirement already satisfied: markdown>=2.6.8 in /usr/local/lib/python3.10/dist-packages (from tensorboard<2.15,>=2.14->tensorflow>=1.9.0->deepface) (3.5)\n",
            "Requirement already satisfied: tensorboard-data-server<0.8.0,>=0.7.0 in /usr/local/lib/python3.10/dist-packages (from tensorboard<2.15,>=2.14->tensorflow>=1.9.0->deepface) (0.7.2)\n",
            "Requirement already satisfied: soupsieve>1.2 in /usr/local/lib/python3.10/dist-packages (from beautifulsoup4->gdown>=3.10.1->deepface) (2.5)\n",
            "Requirement already satisfied: charset-normalizer<4,>=2 in /usr/local/lib/python3.10/dist-packages (from requests[socks]->gdown>=3.10.1->deepface) (3.3.1)\n",
            "Requirement already satisfied: idna<4,>=2.5 in /usr/local/lib/python3.10/dist-packages (from requests[socks]->gdown>=3.10.1->deepface) (3.4)\n",
            "Requirement already satisfied: urllib3<3,>=1.21.1 in /usr/local/lib/python3.10/dist-packages (from requests[socks]->gdown>=3.10.1->deepface) (2.0.7)\n",
            "Requirement already satisfied: certifi>=2017.4.17 in /usr/local/lib/python3.10/dist-packages (from requests[socks]->gdown>=3.10.1->deepface) (2023.7.22)\n",
            "Requirement already satisfied: PySocks!=1.5.7,>=1.5.6 in /usr/local/lib/python3.10/dist-packages (from requests[socks]->gdown>=3.10.1->deepface) (1.7.1)\n",
            "Requirement already satisfied: cachetools<6.0,>=2.0.0 in /usr/local/lib/python3.10/dist-packages (from google-auth<3,>=1.6.3->tensorboard<2.15,>=2.14->tensorflow>=1.9.0->deepface) (5.3.2)\n",
            "Requirement already satisfied: pyasn1-modules>=0.2.1 in /usr/local/lib/python3.10/dist-packages (from google-auth<3,>=1.6.3->tensorboard<2.15,>=2.14->tensorflow>=1.9.0->deepface) (0.3.0)\n",
            "Requirement already satisfied: rsa<5,>=3.1.4 in /usr/local/lib/python3.10/dist-packages (from google-auth<3,>=1.6.3->tensorboard<2.15,>=2.14->tensorflow>=1.9.0->deepface) (4.9)\n",
            "Requirement already satisfied: requests-oauthlib>=0.7.0 in /usr/local/lib/python3.10/dist-packages (from google-auth-oauthlib<1.1,>=0.5->tensorboard<2.15,>=2.14->tensorflow>=1.9.0->deepface) (1.3.1)\n",
            "Requirement already satisfied: pyasn1<0.6.0,>=0.4.6 in /usr/local/lib/python3.10/dist-packages (from pyasn1-modules>=0.2.1->google-auth<3,>=1.6.3->tensorboard<2.15,>=2.14->tensorflow>=1.9.0->deepface) (0.5.0)\n",
            "Requirement already satisfied: oauthlib>=3.0.0 in /usr/local/lib/python3.10/dist-packages (from requests-oauthlib>=0.7.0->google-auth-oauthlib<1.1,>=0.5->tensorboard<2.15,>=2.14->tensorflow>=1.9.0->deepface) (3.2.2)\n"
          ]
        }
      ]
    },
    {
      "cell_type": "code",
      "source": [
        "from deepface import DeepFace"
      ],
      "metadata": {
        "id": "e5m4Lv7-n6qe"
      },
      "execution_count": 143,
      "outputs": []
    },
    {
      "cell_type": "code",
      "source": [
        "objs = DeepFace.analyze(img_path = '/content/emotions/Angry/image 72.png',\n",
        "        actions = ['age', 'gender', 'race', 'emotion'])"
      ],
      "metadata": {
        "colab": {
          "base_uri": "https://localhost:8080/"
        },
        "id": "IXiTnP82g9Xd",
        "outputId": "89e024ee-1f6f-4051-b40b-1fbd5c38bb01"
      },
      "execution_count": 144,
      "outputs": [
        {
          "output_type": "stream",
          "name": "stderr",
          "text": [
            "Action: emotion: 100%|██████████| 4/4 [00:00<00:00,  9.13it/s]\n"
          ]
        }
      ]
    },
    {
      "cell_type": "code",
      "source": [
        "objs"
      ],
      "metadata": {
        "colab": {
          "base_uri": "https://localhost:8080/"
        },
        "id": "7WrHST1AiSHv",
        "outputId": "b7483e92-49ab-4ea8-dcda-179483aec7bc"
      },
      "execution_count": 145,
      "outputs": [
        {
          "output_type": "execute_result",
          "data": {
            "text/plain": [
              "[{'age': 27,\n",
              "  'region': {'x': 16, 'y': 19, 'w': 64, 'h': 64},\n",
              "  'gender': {'Woman': 0.010792600369313732, 'Man': 99.98921155929565},\n",
              "  'dominant_gender': 'Man',\n",
              "  'race': {'asian': 7.70533837108279e-05,\n",
              "   'indian': 0.002695005380919379,\n",
              "   'black': 99.99686479531107,\n",
              "   'white': 7.029683229749494e-08,\n",
              "   'middle eastern': 3.2245251982207586e-08,\n",
              "   'latino hispanic': 0.00036408987191133534},\n",
              "  'dominant_race': 'black',\n",
              "  'emotion': {'angry': 70.22532643230716,\n",
              "   'disgust': 0.021527713225477977,\n",
              "   'fear': 19.68245027556719,\n",
              "   'happy': 9.319037754478321,\n",
              "   'sad': 0.596887607314444,\n",
              "   'surprise': 0.11439340405275845,\n",
              "   'neutral': 0.04037509156298438},\n",
              "  'dominant_emotion': 'angry'}]"
            ]
          },
          "metadata": {},
          "execution_count": 145
        }
      ]
    },
    {
      "cell_type": "code",
      "source": [
        "print(len(objs))"
      ],
      "metadata": {
        "colab": {
          "base_uri": "https://localhost:8080/"
        },
        "id": "mf6vxP9cBTJz",
        "outputId": "4c3d97d9-7965-4d51-9948-64a8c208d260"
      },
      "execution_count": 146,
      "outputs": [
        {
          "output_type": "stream",
          "name": "stdout",
          "text": [
            "1\n"
          ]
        }
      ]
    },
    {
      "cell_type": "markdown",
      "source": [
        "Compare your results with DeepFace Library"
      ],
      "metadata": {
        "id": "_KaCpflDCkDy"
      }
    },
    {
      "cell_type": "code",
      "source": [
        "image = str('/content/emotions/Angry/image 72.png').strip()\n",
        "img = cv.imread(image)\n",
        "image = cv.resize(img,(200,200))\n",
        "image = np.array(image) / 255.0  # Normaliza los valores de píxeles entre 0 y 1\n",
        "image = image.reshape(1, 200, 200, 3)  # Ajusta la forma para una sola imagen\n",
        "model.predict(image)"
      ],
      "metadata": {
        "colab": {
          "base_uri": "https://localhost:8080/"
        },
        "id": "1ax7Hst9ldTV",
        "outputId": "c8425275-5128-43fe-ef0a-7003e1069e79"
      },
      "execution_count": 150,
      "outputs": [
        {
          "output_type": "stream",
          "name": "stdout",
          "text": [
            "1/1 [==============================] - 0s 21ms/step\n"
          ]
        },
        {
          "output_type": "execute_result",
          "data": {
            "text/plain": [
              "array([[0.15423654, 0.16049051, 0.1503141 , 0.12807438, 0.15102239,\n",
              "        0.13673061, 0.11913139]], dtype=float32)"
            ]
          },
          "metadata": {},
          "execution_count": 150
        }
      ]
    },
    {
      "cell_type": "code",
      "source": [
        "print(f'Test accuracy of your model: {accuracy_ts}')\n",
        "emotion = objs[0]['emotion']\n",
        "print(f'Emotion prediction by DeepFace model: {emotion}')"
      ],
      "metadata": {
        "id": "VFslwfD7-TDo",
        "colab": {
          "base_uri": "https://localhost:8080/"
        },
        "outputId": "bcad12d7-0669-4a09-9eea-8802cc6eebfb"
      },
      "execution_count": 149,
      "outputs": [
        {
          "output_type": "stream",
          "name": "stdout",
          "text": [
            "Test accuracy of your model: 0.31343284249305725\n",
            "Emotion prediction by DeepFace model: {'angry': 70.22532643230716, 'disgust': 0.021527713225477977, 'fear': 19.68245027556719, 'happy': 9.319037754478321, 'sad': 0.596887607314444, 'surprise': 0.11439340405275845, 'neutral': 0.04037509156298438}\n"
          ]
        }
      ]
    },
    {
      "cell_type": "code",
      "source": [],
      "metadata": {
        "id": "YTk8PcgEgQf1"
      },
      "execution_count": null,
      "outputs": []
    }
  ]
}