{
  "nbformat": 4,
  "nbformat_minor": 0,
  "metadata": {
    "colab": {
      "provenance": [],
      "gpuType": "T4"
    },
    "kernelspec": {
      "name": "python3",
      "display_name": "Python 3"
    },
    "language_info": {
      "name": "python"
    },
    "accelerator": "GPU"
  },
  "cells": [
    {
      "cell_type": "markdown",
      "source": [
        "# Exercise\n",
        "\n",
        " - Import data on emotion\n",
        " - Train a CNN to classify by emotion (Angry, Disgust, Fear, Happy...)\n",
        " - Use Data augmentaion techinques to improve you accuracy\n",
        " - Compare your results with DeepFace Library https://pypi.org/project/deepface/"
      ],
      "metadata": {
        "id": "1A4oknIAVJSA"
      }
    },
    {
      "cell_type": "code",
      "source": [
        "from google.colab import drive\n",
        "drive.mount('/content/drive')"
      ],
      "metadata": {
        "colab": {
          "base_uri": "https://localhost:8080/"
        },
        "id": "uwjiumsUL1Xq",
        "outputId": "d03a857b-62f9-4dd6-82a7-977db3644ba9"
      },
      "execution_count": 272,
      "outputs": [
        {
          "output_type": "stream",
          "name": "stdout",
          "text": [
            "Drive already mounted at /content/drive; to attempt to forcibly remount, call drive.mount(\"/content/drive\", force_remount=True).\n"
          ]
        }
      ]
    },
    {
      "cell_type": "code",
      "source": [
        "!unzip /content/drive/MyDrive/Ironhack/CNN/emotions-20231104T114718Z-001.zip"
      ],
      "metadata": {
        "colab": {
          "base_uri": "https://localhost:8080/"
        },
        "id": "cBefQ872L93K",
        "outputId": "605729ea-3401-4e24-ffbd-7f0e766b03a1"
      },
      "execution_count": 273,
      "outputs": [
        {
          "output_type": "stream",
          "name": "stdout",
          "text": [
            "Archive:  /content/drive/MyDrive/Ironhack/CNN/emotions-20231104T114718Z-001.zip\n",
            "replace emotions/Disgust/image 106.png? [y]es, [n]o, [A]ll, [N]one, [r]ename: "
          ]
        }
      ]
    },
    {
      "cell_type": "code",
      "execution_count": 274,
      "metadata": {
        "id": "ia_vwwk7VF0y"
      },
      "outputs": [],
      "source": [
        "import pandas as pd\n",
        "import numpy as np\n",
        "import matplotlib.pyplot as plt\n",
        "import seaborn as sns\n",
        "import os\n",
        "from tabulate import tabulate\n",
        "\n",
        "import cv2 as cv\n",
        "import pathlib\n",
        "from PIL import Image\n",
        "\n",
        "from sklearn.metrics import accuracy_score,classification_report\n",
        "from sklearn.model_selection import train_test_split\n",
        "\n",
        "import tensorflow as tf\n",
        "from tensorflow.keras.models import Sequential\n",
        "from tensorflow.keras.layers import Dense, Dropout, BatchNormalization, Activation, Flatten, Conv2D, MaxPooling2D\n",
        "from tensorflow.keras.regularizers import l1, l2, l1_l2\n",
        "from tensorflow.keras.metrics import Recall, Precision\n",
        "from tensorflow.keras.callbacks import EarlyStopping\n",
        "from tensorflow.keras.preprocessing.image import ImageDataGenerator\n",
        "from tensorflow.keras.utils import to_categorical\n"
      ]
    },
    {
      "cell_type": "code",
      "source": [
        "url = '/content/emotions/'\n",
        "data = pathlib.Path(url)\n",
        "paths = {\n",
        "    \"Angry\": list(data.glob('Angry/*.png')),\n",
        "    \"Disgust\": list(data.glob('Disgust/*.png')),\n",
        "    \"Fear\": list(data.glob('Fear/*.png')),\n",
        "    \"Happy\" : list(data.glob('Happy/*.png')),\n",
        "    \"Neutral\" : list(data.glob('Neutral/*.png')),\n",
        "    \"Sad\" : list(data.glob('Sad/*.png')),\n",
        "    \"Surprise\" : list(data.glob('Surprise/*.png'))\n",
        "}\n",
        "\n",
        "labels = {\n",
        "    \"Angry\" : 0,\n",
        "    \"Disgust\":1,\n",
        "    \"Fear\":2,\n",
        "    \"Happy\":3,\n",
        "    \"Neutral\":4,\n",
        "    \"Sad\":5,\n",
        "    \"Surprise\":6\n",
        "}"
      ],
      "metadata": {
        "id": "ykmaP706Vw2Z"
      },
      "execution_count": 275,
      "outputs": []
    },
    {
      "cell_type": "code",
      "source": [
        "Image.open(str(paths[\"Angry\"][0]))"
      ],
      "metadata": {
        "colab": {
          "base_uri": "https://localhost:8080/",
          "height": 113
        },
        "id": "Yc8nYlX3WePm",
        "outputId": "dfa6abf8-5ec8-4f39-e0bf-8e8d130f9217"
      },
      "execution_count": 276,
      "outputs": [
        {
          "output_type": "execute_result",
          "data": {
            "text/plain": [
              "<PIL.PngImagePlugin.PngImageFile image mode=RGBA size=96x96>"
            ],
            "image/png": "[encoded data removed]"
          },
          "metadata": {},
          "execution_count": 276
        }
      ]
    },
    {
      "cell_type": "code",
      "source": [
        "X=[]\n",
        "y=[]\n",
        "\n",
        "for name, images in paths.items():\n",
        "    for image in images:\n",
        "        try:\n",
        "            print(name)\n",
        "            image = str(image).strip()\n",
        "            img = cv.imread(image)\n",
        "            img_resize = cv.resize(img,(200,200))\n",
        "            X.append(img_resize)\n",
        "            y.append(labels[name])\n",
        "\n",
        "        except:\n",
        "            print('Except')\n",
        "\n",
        "X = np.array(X)\n",
        "y = np.array(y)\n",
        "X.shape"
      ],
      "metadata": {
        "id": "RB5QCwD9WgOv",
        "colab": {
          "base_uri": "https://localhost:8080/"
        },
        "outputId": "cde46cf5-66c4-4831-c945-584aa2623f92"
      },
      "execution_count": 277,
      "outputs": [
        {
          "output_type": "stream",
          "name": "stdout",
          "text": [
            "Angry\n",
            "Angry\n",
            "Angry\n",
            "Angry\n",
            "Angry\n",
            "Angry\n",
            "Angry\n",
            "Angry\n",
            "Angry\n",
            "Angry\n",
            "Angry\n",
            "Angry\n",
            "Angry\n",
            "Angry\n",
            "Angry\n",
            "Angry\n",
            "Angry\n",
            "Angry\n",
            "Angry\n",
            "Angry\n",
            "Angry\n",
            "Angry\n",
            "Angry\n",
            "Angry\n",
            "Angry\n",
            "Angry\n",
            "Angry\n",
            "Angry\n",
            "Angry\n",
            "Angry\n",
            "Angry\n",
            "Angry\n",
            "Angry\n",
            "Angry\n",
            "Angry\n",
            "Angry\n",
            "Angry\n",
            "Disgust\n",
            "Disgust\n",
            "Disgust\n",
            "Disgust\n",
            "Disgust\n",
            "Disgust\n",
            "Disgust\n",
            "Disgust\n",
            "Disgust\n",
            "Disgust\n",
            "Disgust\n",
            "Disgust\n",
            "Disgust\n",
            "Disgust\n",
            "Disgust\n",
            "Disgust\n",
            "Disgust\n",
            "Disgust\n",
            "Disgust\n",
            "Disgust\n",
            "Disgust\n",
            "Disgust\n",
            "Disgust\n",
            "Disgust\n",
            "Disgust\n",
            "Disgust\n",
            "Fear\n",
            "Fear\n",
            "Fear\n",
            "Fear\n",
            "Fear\n",
            "Fear\n",
            "Fear\n",
            "Fear\n",
            "Fear\n",
            "Fear\n",
            "Fear\n",
            "Fear\n",
            "Fear\n",
            "Fear\n",
            "Fear\n",
            "Fear\n",
            "Fear\n",
            "Fear\n",
            "Fear\n",
            "Fear\n",
            "Fear\n",
            "Fear\n",
            "Fear\n",
            "Fear\n",
            "Fear\n",
            "Fear\n",
            "Fear\n",
            "Fear\n",
            "Fear\n",
            "Fear\n",
            "Happy\n",
            "Happy\n",
            "Happy\n",
            "Happy\n",
            "Happy\n",
            "Happy\n",
            "Happy\n",
            "Happy\n",
            "Happy\n",
            "Happy\n",
            "Happy\n",
            "Happy\n",
            "Happy\n",
            "Happy\n",
            "Happy\n",
            "Happy\n",
            "Happy\n",
            "Happy\n",
            "Happy\n",
            "Happy\n",
            "Happy\n",
            "Happy\n",
            "Happy\n",
            "Happy\n",
            "Happy\n",
            "Happy\n",
            "Happy\n",
            "Happy\n",
            "Happy\n",
            "Happy\n",
            "Happy\n",
            "Happy\n",
            "Happy\n",
            "Happy\n",
            "Happy\n",
            "Happy\n",
            "Happy\n",
            "Happy\n",
            "Neutral\n",
            "Neutral\n",
            "Neutral\n",
            "Neutral\n",
            "Neutral\n",
            "Neutral\n",
            "Neutral\n",
            "Neutral\n",
            "Neutral\n",
            "Neutral\n",
            "Neutral\n",
            "Neutral\n",
            "Neutral\n",
            "Neutral\n",
            "Neutral\n",
            "Neutral\n",
            "Neutral\n",
            "Neutral\n",
            "Neutral\n",
            "Neutral\n",
            "Neutral\n",
            "Neutral\n",
            "Neutral\n",
            "Neutral\n",
            "Neutral\n",
            "Neutral\n",
            "Neutral\n",
            "Neutral\n",
            "Neutral\n",
            "Neutral\n",
            "Sad\n",
            "Sad\n",
            "Sad\n",
            "Sad\n",
            "Sad\n",
            "Sad\n",
            "Sad\n",
            "Sad\n",
            "Sad\n",
            "Sad\n",
            "Sad\n",
            "Sad\n",
            "Sad\n",
            "Sad\n",
            "Sad\n",
            "Sad\n",
            "Sad\n",
            "Sad\n",
            "Sad\n",
            "Sad\n",
            "Sad\n",
            "Sad\n",
            "Sad\n",
            "Sad\n",
            "Sad\n",
            "Sad\n",
            "Sad\n",
            "Sad\n",
            "Sad\n",
            "Sad\n",
            "Surprise\n",
            "Surprise\n",
            "Surprise\n",
            "Surprise\n",
            "Surprise\n",
            "Surprise\n",
            "Surprise\n",
            "Surprise\n",
            "Surprise\n",
            "Surprise\n",
            "Surprise\n",
            "Surprise\n",
            "Surprise\n",
            "Surprise\n",
            "Surprise\n",
            "Surprise\n",
            "Surprise\n",
            "Surprise\n",
            "Surprise\n",
            "Surprise\n",
            "Surprise\n",
            "Surprise\n",
            "Surprise\n",
            "Surprise\n",
            "Surprise\n",
            "Surprise\n",
            "Surprise\n",
            "Surprise\n",
            "Surprise\n",
            "Surprise\n"
          ]
        },
        {
          "output_type": "execute_result",
          "data": {
            "text/plain": [
              "(221, 200, 200, 3)"
            ]
          },
          "metadata": {},
          "execution_count": 277
        }
      ]
    },
    {
      "cell_type": "code",
      "source": [
        "for label in y:\n",
        "  print(label)"
      ],
      "metadata": {
        "id": "ZfGRbIM_OGmc",
        "colab": {
          "base_uri": "https://localhost:8080/"
        },
        "outputId": "884bfd4f-80a4-4d43-972b-c9992a225429"
      },
      "execution_count": 278,
      "outputs": [
        {
          "output_type": "stream",
          "name": "stdout",
          "text": [
            "0\n",
            "0\n",
            "0\n",
            "0\n",
            "0\n",
            "0\n",
            "0\n",
            "0\n",
            "0\n",
            "0\n",
            "0\n",
            "0\n",
            "0\n",
            "0\n",
            "0\n",
            "0\n",
            "0\n",
            "0\n",
            "0\n",
            "0\n",
            "0\n",
            "0\n",
            "0\n",
            "0\n",
            "0\n",
            "0\n",
            "0\n",
            "0\n",
            "0\n",
            "0\n",
            "0\n",
            "0\n",
            "0\n",
            "0\n",
            "0\n",
            "0\n",
            "0\n",
            "1\n",
            "1\n",
            "1\n",
            "1\n",
            "1\n",
            "1\n",
            "1\n",
            "1\n",
            "1\n",
            "1\n",
            "1\n",
            "1\n",
            "1\n",
            "1\n",
            "1\n",
            "1\n",
            "1\n",
            "1\n",
            "1\n",
            "1\n",
            "1\n",
            "1\n",
            "1\n",
            "1\n",
            "1\n",
            "1\n",
            "2\n",
            "2\n",
            "2\n",
            "2\n",
            "2\n",
            "2\n",
            "2\n",
            "2\n",
            "2\n",
            "2\n",
            "2\n",
            "2\n",
            "2\n",
            "2\n",
            "2\n",
            "2\n",
            "2\n",
            "2\n",
            "2\n",
            "2\n",
            "2\n",
            "2\n",
            "2\n",
            "2\n",
            "2\n",
            "2\n",
            "2\n",
            "2\n",
            "2\n",
            "2\n",
            "3\n",
            "3\n",
            "3\n",
            "3\n",
            "3\n",
            "3\n",
            "3\n",
            "3\n",
            "3\n",
            "3\n",
            "3\n",
            "3\n",
            "3\n",
            "3\n",
            "3\n",
            "3\n",
            "3\n",
            "3\n",
            "3\n",
            "3\n",
            "3\n",
            "3\n",
            "3\n",
            "3\n",
            "3\n",
            "3\n",
            "3\n",
            "3\n",
            "3\n",
            "3\n",
            "3\n",
            "3\n",
            "3\n",
            "3\n",
            "3\n",
            "3\n",
            "3\n",
            "3\n",
            "4\n",
            "4\n",
            "4\n",
            "4\n",
            "4\n",
            "4\n",
            "4\n",
            "4\n",
            "4\n",
            "4\n",
            "4\n",
            "4\n",
            "4\n",
            "4\n",
            "4\n",
            "4\n",
            "4\n",
            "4\n",
            "4\n",
            "4\n",
            "4\n",
            "4\n",
            "4\n",
            "4\n",
            "4\n",
            "4\n",
            "4\n",
            "4\n",
            "4\n",
            "4\n",
            "5\n",
            "5\n",
            "5\n",
            "5\n",
            "5\n",
            "5\n",
            "5\n",
            "5\n",
            "5\n",
            "5\n",
            "5\n",
            "5\n",
            "5\n",
            "5\n",
            "5\n",
            "5\n",
            "5\n",
            "5\n",
            "5\n",
            "5\n",
            "5\n",
            "5\n",
            "5\n",
            "5\n",
            "5\n",
            "5\n",
            "5\n",
            "5\n",
            "5\n",
            "5\n",
            "6\n",
            "6\n",
            "6\n",
            "6\n",
            "6\n",
            "6\n",
            "6\n",
            "6\n",
            "6\n",
            "6\n",
            "6\n",
            "6\n",
            "6\n",
            "6\n",
            "6\n",
            "6\n",
            "6\n",
            "6\n",
            "6\n",
            "6\n",
            "6\n",
            "6\n",
            "6\n",
            "6\n",
            "6\n",
            "6\n",
            "6\n",
            "6\n",
            "6\n",
            "6\n"
          ]
        }
      ]
    },
    {
      "cell_type": "code",
      "source": [
        "plt.figure(figsize=(8, 3))\n",
        "g = sns.countplot(x = y)\n",
        "g.set_xticks(range(len(list(labels.keys()))))\n",
        "g.set_xticklabels(list(labels.keys()))\n",
        "plt.title('Data Imbalance')\n",
        "# plt.xlabel('emotions')\n",
        "plt.ylabel('Count')"
      ],
      "metadata": {
        "colab": {
          "base_uri": "https://localhost:8080/",
          "height": 332
        },
        "id": "5P17xgXbc5AN",
        "outputId": "bc005a91-089a-47a2-c890-bd74407498f9"
      },
      "execution_count": 279,
      "outputs": [
        {
          "output_type": "execute_result",
          "data": {
            "text/plain": [
              "Text(0, 0.5, 'Count')"
            ]
          },
          "metadata": {},
          "execution_count": 279
        },
        {
          "output_type": "display_data",
          "data": {
            "text/plain": [
              "<Figure size 800x300 with 1 Axes>"
            ],
            "image/png": "[encoded data removed]"
          },
          "metadata": {}
        }
      ]
    },
    {
      "cell_type": "code",
      "source": [
        "X_train, X_test, y_train, y_test = train_test_split(X, y, test_size=0.3, random_state=42)\n",
        "print(X_train.shape)\n",
        "print(X_test.shape)\n",
        "print(y_train.shape)"
      ],
      "metadata": {
        "colab": {
          "base_uri": "https://localhost:8080/"
        },
        "id": "YRONhh-ZX06H",
        "outputId": "1f485071-c772-47c1-fd0b-5fe997f96ab3"
      },
      "execution_count": 280,
      "outputs": [
        {
          "output_type": "stream",
          "name": "stdout",
          "text": [
            "(154, 200, 200, 3)\n",
            "(67, 200, 200, 3)\n",
            "(154,)\n"
          ]
        }
      ]
    },
    {
      "cell_type": "code",
      "source": [
        "# codificar a estilo one-hot las salidas\n",
        "\n",
        "y_train=to_categorical(y_train)\n",
        "y_test=to_categorical(y_test)\n",
        "\n",
        "num_classes = y_test.shape[1]\n",
        "y_test.shape[1]"
      ],
      "metadata": {
        "colab": {
          "base_uri": "https://localhost:8080/"
        },
        "id": "YTfHRWcmPZee",
        "outputId": "65beba56-c5a8-4b2f-a535-3721546215ef"
      },
      "execution_count": 281,
      "outputs": [
        {
          "output_type": "execute_result",
          "data": {
            "text/plain": [
              "7"
            ]
          },
          "metadata": {},
          "execution_count": 281
        }
      ]
    },
    {
      "cell_type": "code",
      "source": [
        "# definimos una CNN simple\n",
        "def baseline_model():\n",
        "  # creamos el modelo\n",
        "  model = Sequential()\n",
        "  model.add(Conv2D(32, (5, 5), padding='same', input_shape=(200, 200, 3), activation='relu'))\n",
        "  model.add(MaxPooling2D())\n",
        "  model.add(Dropout(0.2))\n",
        "  model.add(Conv2D(64, (3, 3), padding='same', activation='relu'))\n",
        "  model.add(MaxPooling2D())\n",
        "  model.add(Dropout(0.2))\n",
        "  model.add(Conv2D(128, (3, 3), padding='same', activation='relu'))\n",
        "  model.add(MaxPooling2D())\n",
        "  model.add(Dropout(0.2))\n",
        "  model.add(Conv2D(512, (3, 3), padding='same', activation='relu'))\n",
        "  model.add(MaxPooling2D())\n",
        "  model.add(Flatten())\n",
        "  model.add(Dense(128, activation='relu'))\n",
        "  model.add(Dropout(0.2))\n",
        "  model.add(Dense(128, activation='relu'))\n",
        "  model.add(Dense(num_classes, activation='softmax'))\n",
        "  # Compilamos el modelo\n",
        "  model.compile(loss='categorical_crossentropy', optimizer='adam', metrics=['accuracy'])\n",
        "  return model"
      ],
      "metadata": {
        "id": "0fftzOIuPZc8"
      },
      "execution_count": 282,
      "outputs": []
    },
    {
      "cell_type": "code",
      "source": [
        "# construimos el modelo\n",
        "model = baseline_model()\n",
        "model.summary()"
      ],
      "metadata": {
        "colab": {
          "base_uri": "https://localhost:8080/"
        },
        "id": "8floJgI0PZaY",
        "outputId": "70c8d21c-e715-4802-aebc-08158b652842"
      },
      "execution_count": 283,
      "outputs": [
        {
          "output_type": "stream",
          "name": "stdout",
          "text": [
            "Model: \"sequential_39\"\n",
            "_________________________________________________________________\n",
            " Layer (type)                Output Shape              Param #   \n",
            "=================================================================\n",
            " conv2d_167 (Conv2D)         (None, 200, 200, 32)      2432      \n",
            "                                                                 \n",
            " max_pooling2d_130 (MaxPool  (None, 100, 100, 32)      0         \n",
            " ing2D)                                                          \n",
            "                                                                 \n",
            " dropout_122 (Dropout)       (None, 100, 100, 32)      0         \n",
            "                                                                 \n",
            " conv2d_168 (Conv2D)         (None, 100, 100, 64)      18496     \n",
            "                                                                 \n",
            " max_pooling2d_131 (MaxPool  (None, 50, 50, 64)        0         \n",
            " ing2D)                                                          \n",
            "                                                                 \n",
            " dropout_123 (Dropout)       (None, 50, 50, 64)        0         \n",
            "                                                                 \n",
            " conv2d_169 (Conv2D)         (None, 50, 50, 128)       73856     \n",
            "                                                                 \n",
            " max_pooling2d_132 (MaxPool  (None, 25, 25, 128)       0         \n",
            " ing2D)                                                          \n",
            "                                                                 \n",
            " dropout_124 (Dropout)       (None, 25, 25, 128)       0         \n",
            "                                                                 \n",
            " conv2d_170 (Conv2D)         (None, 25, 25, 512)       590336    \n",
            "                                                                 \n",
            " max_pooling2d_133 (MaxPool  (None, 12, 12, 512)       0         \n",
            " ing2D)                                                          \n",
            "                                                                 \n",
            " flatten_39 (Flatten)        (None, 73728)             0         \n",
            "                                                                 \n",
            " dense_87 (Dense)            (None, 128)               9437312   \n",
            "                                                                 \n",
            " dropout_125 (Dropout)       (None, 128)               0         \n",
            "                                                                 \n",
            " dense_88 (Dense)            (None, 128)               16512     \n",
            "                                                                 \n",
            " dense_89 (Dense)            (None, 7)                 903       \n",
            "                                                                 \n",
            "=================================================================\n",
            "Total params: 10139847 (38.68 MB)\n",
            "Trainable params: 10139847 (38.68 MB)\n",
            "Non-trainable params: 0 (0.00 Byte)\n",
            "_________________________________________________________________\n"
          ]
        }
      ]
    },
    {
      "cell_type": "code",
      "source": [
        "# entrenamos el modelo\n",
        "history=model.fit(X_train, y_train, validation_data=(X_test, y_test), epochs=30, batch_size=50)"
      ],
      "metadata": {
        "colab": {
          "base_uri": "https://localhost:8080/"
        },
        "id": "Zg7QMFnMPZX2",
        "outputId": "a91b216a-ff31-48ef-d33d-cdbea9e13d36"
      },
      "execution_count": 284,
      "outputs": [
        {
          "output_type": "stream",
          "name": "stdout",
          "text": [
            "Epoch 1/30\n",
            "4/4 [==============================] - 3s 194ms/step - loss: 477.3510 - accuracy: 0.1429 - val_loss: 10.4847 - val_accuracy: 0.1343\n",
            "Epoch 2/30\n",
            "4/4 [==============================] - 0s 120ms/step - loss: 19.3791 - accuracy: 0.1494 - val_loss: 2.0174 - val_accuracy: 0.0746\n",
            "Epoch 3/30\n",
            "4/4 [==============================] - 0s 121ms/step - loss: 2.1275 - accuracy: 0.1104 - val_loss: 1.9469 - val_accuracy: 0.1343\n",
            "Epoch 4/30\n",
            "4/4 [==============================] - 0s 118ms/step - loss: 1.9380 - accuracy: 0.2078 - val_loss: 1.9444 - val_accuracy: 0.1045\n",
            "Epoch 5/30\n",
            "4/4 [==============================] - 0s 123ms/step - loss: 1.9490 - accuracy: 0.1558 - val_loss: 1.9429 - val_accuracy: 0.1493\n",
            "Epoch 6/30\n",
            "4/4 [==============================] - 0s 123ms/step - loss: 1.9356 - accuracy: 0.1948 - val_loss: 1.9427 - val_accuracy: 0.1791\n",
            "Epoch 7/30\n",
            "4/4 [==============================] - 0s 123ms/step - loss: 1.9185 - accuracy: 0.2597 - val_loss: 1.9477 - val_accuracy: 0.1642\n",
            "Epoch 8/30\n",
            "4/4 [==============================] - 0s 121ms/step - loss: 1.9405 - accuracy: 0.2403 - val_loss: 1.9422 - val_accuracy: 0.2687\n",
            "Epoch 9/30\n",
            "4/4 [==============================] - 0s 120ms/step - loss: 1.9096 - accuracy: 0.2208 - val_loss: 1.9388 - val_accuracy: 0.2836\n",
            "Epoch 10/30\n",
            "4/4 [==============================] - 0s 125ms/step - loss: 1.7985 - accuracy: 0.3377 - val_loss: 1.9281 - val_accuracy: 0.2239\n",
            "Epoch 11/30\n",
            "4/4 [==============================] - 0s 121ms/step - loss: 1.6413 - accuracy: 0.3117 - val_loss: 1.9228 - val_accuracy: 0.1791\n",
            "Epoch 12/30\n",
            "4/4 [==============================] - 0s 113ms/step - loss: 1.6471 - accuracy: 0.3377 - val_loss: 1.9119 - val_accuracy: 0.2388\n",
            "Epoch 13/30\n",
            "4/4 [==============================] - 0s 107ms/step - loss: 1.6168 - accuracy: 0.3831 - val_loss: 1.8940 - val_accuracy: 0.2836\n",
            "Epoch 14/30\n",
            "4/4 [==============================] - 0s 109ms/step - loss: 1.5660 - accuracy: 0.4221 - val_loss: 1.9116 - val_accuracy: 0.2239\n",
            "Epoch 15/30\n",
            "4/4 [==============================] - 0s 108ms/step - loss: 1.4606 - accuracy: 0.4675 - val_loss: 1.8856 - val_accuracy: 0.2985\n",
            "Epoch 16/30\n",
            "4/4 [==============================] - 0s 108ms/step - loss: 1.4812 - accuracy: 0.4416 - val_loss: 1.9297 - val_accuracy: 0.2090\n",
            "Epoch 17/30\n",
            "4/4 [==============================] - 0s 107ms/step - loss: 1.4839 - accuracy: 0.4481 - val_loss: 1.9036 - val_accuracy: 0.2836\n",
            "Epoch 18/30\n",
            "4/4 [==============================] - 0s 108ms/step - loss: 1.4107 - accuracy: 0.4416 - val_loss: 1.8932 - val_accuracy: 0.2537\n",
            "Epoch 19/30\n",
            "4/4 [==============================] - 0s 117ms/step - loss: 1.1860 - accuracy: 0.5455 - val_loss: 1.9150 - val_accuracy: 0.2985\n",
            "Epoch 20/30\n",
            "4/4 [==============================] - 0s 115ms/step - loss: 1.0749 - accuracy: 0.6234 - val_loss: 1.9809 - val_accuracy: 0.1940\n",
            "Epoch 21/30\n",
            "4/4 [==============================] - 0s 108ms/step - loss: 0.9403 - accuracy: 0.6883 - val_loss: 2.0009 - val_accuracy: 0.2537\n",
            "Epoch 22/30\n",
            "4/4 [==============================] - 0s 111ms/step - loss: 0.9213 - accuracy: 0.6429 - val_loss: 2.1556 - val_accuracy: 0.1940\n",
            "Epoch 23/30\n",
            "4/4 [==============================] - 0s 116ms/step - loss: 0.9490 - accuracy: 0.6623 - val_loss: 1.9660 - val_accuracy: 0.2090\n",
            "Epoch 24/30\n",
            "4/4 [==============================] - 0s 117ms/step - loss: 0.8337 - accuracy: 0.6948 - val_loss: 1.9158 - val_accuracy: 0.2836\n",
            "Epoch 25/30\n",
            "4/4 [==============================] - 0s 118ms/step - loss: 0.9387 - accuracy: 0.6623 - val_loss: 2.0547 - val_accuracy: 0.2239\n",
            "Epoch 26/30\n",
            "4/4 [==============================] - 0s 107ms/step - loss: 0.6844 - accuracy: 0.7857 - val_loss: 2.1692 - val_accuracy: 0.2537\n",
            "Epoch 27/30\n",
            "4/4 [==============================] - 0s 111ms/step - loss: 0.7482 - accuracy: 0.7403 - val_loss: 2.3414 - val_accuracy: 0.2537\n",
            "Epoch 28/30\n",
            "4/4 [==============================] - 0s 118ms/step - loss: 0.5074 - accuracy: 0.7987 - val_loss: 2.3758 - val_accuracy: 0.2985\n",
            "Epoch 29/30\n",
            "4/4 [==============================] - 0s 117ms/step - loss: 0.4545 - accuracy: 0.8312 - val_loss: 2.4499 - val_accuracy: 0.2687\n",
            "Epoch 30/30\n",
            "4/4 [==============================] - 0s 108ms/step - loss: 0.4036 - accuracy: 0.8506 - val_loss: 2.7347 - val_accuracy: 0.2537\n"
          ]
        }
      ]
    },
    {
      "cell_type": "code",
      "source": [
        "history_dict = history.history"
      ],
      "metadata": {
        "id": "VzOjzZDvdgf7"
      },
      "execution_count": 285,
      "outputs": []
    },
    {
      "cell_type": "code",
      "source": [
        "history_dict.keys()"
      ],
      "metadata": {
        "colab": {
          "base_uri": "https://localhost:8080/"
        },
        "id": "9J_7fU5NdgaP",
        "outputId": "12cab4f3-5b77-4aad-fe04-94d4ff66ae9f"
      },
      "execution_count": 286,
      "outputs": [
        {
          "output_type": "execute_result",
          "data": {
            "text/plain": [
              "dict_keys(['loss', 'accuracy', 'val_loss', 'val_accuracy'])"
            ]
          },
          "metadata": {},
          "execution_count": 286
        }
      ]
    },
    {
      "cell_type": "code",
      "source": [
        "import matplotlib.pyplot as plt\n",
        "\n",
        "plt.plot(history.history['accuracy'])\n",
        "plt.plot(history.history['val_accuracy'])\n",
        "plt.title('model accuracy')\n",
        "plt.ylabel('accuracy')\n",
        "plt.xlabel('epoch')\n",
        "plt.legend(['train', 'val'], loc='upper left')\n",
        "plt.show()"
      ],
      "metadata": {
        "colab": {
          "base_uri": "https://localhost:8080/",
          "height": 472
        },
        "id": "2P63nCtfdgVr",
        "outputId": "ba1e8bf6-c4ee-449b-e064-03e0c3fec3c9"
      },
      "execution_count": 287,
      "outputs": [
        {
          "output_type": "display_data",
          "data": {
            "text/plain": [
              "<Figure size 640x480 with 1 Axes>"
            ],
            "image/png": "[encoded data removed]"
          },
          "metadata": {}
        }
      ]
    },
    {
      "cell_type": "code",
      "source": [
        "#evaluate the keras model\n",
        "_, accuracy_tr = model.evaluate(X_train, y_train)\n",
        "_, accuracy_ts= model.evaluate(X_test, y_test)\n",
        "print('Accuracy train: %.2f' % (accuracy_tr*100))\n",
        "print('Accuracy test: %.2f' % (accuracy_ts*100))"
      ],
      "metadata": {
        "colab": {
          "base_uri": "https://localhost:8080/"
        },
        "id": "ibvcdI7f_FFa",
        "outputId": "e498bd09-6921-49a4-8b49-1248432176d0"
      },
      "execution_count": 288,
      "outputs": [
        {
          "output_type": "stream",
          "name": "stdout",
          "text": [
            "5/5 [==============================] - 0s 21ms/step - loss: 0.4241 - accuracy: 0.9221\n",
            "3/3 [==============================] - 0s 15ms/step - loss: 2.7347 - accuracy: 0.2537\n",
            "Accuracy train: 92.21\n",
            "Accuracy test: 25.37\n"
          ]
        }
      ]
    },
    {
      "cell_type": "markdown",
      "source": [
        "### Data Augmentation"
      ],
      "metadata": {
        "id": "JdXvLnSRjsxe"
      }
    },
    {
      "cell_type": "code",
      "source": [
        "img_gen = tf.keras.preprocessing.image.ImageDataGenerator(\n",
        "    # rescale=1./255,\n",
        "    rotation_range = 25,\n",
        "    width_shift_range = 0.2,\n",
        "    height_shift_range = 0.2,\n",
        "    vertical_flip = True,\n",
        "    horizontal_flip = True,\n",
        "    )\n",
        "\n",
        "# img_gen.fit(X_train)\n",
        "augmented_data_generator  = img_gen.flow(X_train, y_train, batch_size=300)\n",
        "batch = augmented_data_generator.next()"
      ],
      "metadata": {
        "id": "yz5Sm2didgTK"
      },
      "execution_count": 289,
      "outputs": []
    },
    {
      "cell_type": "code",
      "source": [
        "imagen = Image.fromarray(np.uint8(batch[0][153]))\n",
        "imagen"
      ],
      "metadata": {
        "colab": {
          "base_uri": "https://localhost:8080/",
          "height": 217
        },
        "id": "oRtzSM77jyAg",
        "outputId": "dfc58626-e97c-4278-f518-e515475846dd"
      },
      "execution_count": 290,
      "outputs": [
        {
          "output_type": "execute_result",
          "data": {
            "text/plain": [
              "<PIL.Image.Image image mode=RGB size=200x200>"
            ],
            "image/png": "[encoded data removed]"
          },
          "metadata": {},
          "execution_count": 290
        }
      ]
    },
    {
      "cell_type": "code",
      "source": [
        "imagen = Image.fromarray(np.uint8(batch[0][72]))\n",
        "imagen"
      ],
      "metadata": {
        "colab": {
          "base_uri": "https://localhost:8080/",
          "height": 217
        },
        "id": "SL_FP_BzCdto",
        "outputId": "46e160d2-021d-425a-8d55-026c7d9740a2"
      },
      "execution_count": 291,
      "outputs": [
        {
          "output_type": "execute_result",
          "data": {
            "text/plain": [
              "<PIL.Image.Image image mode=RGB size=200x200>"
            ],
            "image/png": "[encoded data removed]"
          },
          "metadata": {},
          "execution_count": 291
        }
      ]
    },
    {
      "cell_type": "code",
      "source": [
        "X_train_aug = np.concatenate((X_train, batch[0]), axis=0)\n",
        "y_train_aug = np.concatenate((y_train, batch[1]), axis=0)"
      ],
      "metadata": {
        "id": "TFLIVGWSkRFr"
      },
      "execution_count": 292,
      "outputs": []
    },
    {
      "cell_type": "code",
      "source": [
        "X_train_aug.shape"
      ],
      "metadata": {
        "colab": {
          "base_uri": "https://localhost:8080/"
        },
        "id": "ziM8Ga5rkRCc",
        "outputId": "dfb931ff-ac43-4e08-a6a8-c50ec3d72d51"
      },
      "execution_count": 293,
      "outputs": [
        {
          "output_type": "execute_result",
          "data": {
            "text/plain": [
              "(308, 200, 200, 3)"
            ]
          },
          "metadata": {},
          "execution_count": 293
        }
      ]
    },
    {
      "cell_type": "code",
      "source": [
        "y_train_aug.shape"
      ],
      "metadata": {
        "colab": {
          "base_uri": "https://localhost:8080/"
        },
        "id": "EFDORBBalaa8",
        "outputId": "49497990-1487-4237-b69e-cc8ea058fbac"
      },
      "execution_count": 294,
      "outputs": [
        {
          "output_type": "execute_result",
          "data": {
            "text/plain": [
              "(308, 7)"
            ]
          },
          "metadata": {},
          "execution_count": 294
        }
      ]
    },
    {
      "cell_type": "code",
      "source": [
        "# definimos una CNN simple\n",
        "def baseline_model():\n",
        "  # creamos el modelo\n",
        "  model = Sequential()\n",
        "  model.add(Conv2D(32, (5, 5), padding='same', input_shape=(200, 200, 3), activation='relu'))\n",
        "  model.add(MaxPooling2D())\n",
        "  model.add(Dropout(0.2))\n",
        "  model.add(Conv2D(64, (3, 3), padding='same', activation='relu'))\n",
        "  model.add(MaxPooling2D())\n",
        "  model.add(Dropout(0.2))\n",
        "  model.add(Conv2D(128, (3, 3), padding='same', activation='relu'))\n",
        "  model.add(MaxPooling2D())\n",
        "  model.add(Dropout(0.2))\n",
        "  model.add(Conv2D(512, (3, 3), padding='same', activation='relu'))\n",
        "  model.add(MaxPooling2D())\n",
        "  model.add(Flatten())\n",
        "  model.add(Dense(128, activation='relu'))\n",
        "  model.add(Dropout(0.2))\n",
        "  model.add(Dense(128, activation='relu'))\n",
        "  model.add(Dense(num_classes, activation='softmax'))\n",
        "  # Compilamos el modelo\n",
        "  model.compile(loss='categorical_crossentropy', optimizer='adam', metrics=['accuracy'])\n",
        "  return model"
      ],
      "metadata": {
        "id": "D0RpMoyP9LCB"
      },
      "execution_count": 295,
      "outputs": []
    },
    {
      "cell_type": "code",
      "source": [
        "# construimos el modelo\n",
        "model = baseline_model()\n",
        "model.summary()"
      ],
      "metadata": {
        "colab": {
          "base_uri": "https://localhost:8080/"
        },
        "id": "6xcSmTkU2NcX",
        "outputId": "b3d390e0-9cca-45b2-9a5f-8b47f26d3029"
      },
      "execution_count": 296,
      "outputs": [
        {
          "output_type": "stream",
          "name": "stdout",
          "text": [
            "Model: \"sequential_40\"\n",
            "_________________________________________________________________\n",
            " Layer (type)                Output Shape              Param #   \n",
            "=================================================================\n",
            " conv2d_171 (Conv2D)         (None, 200, 200, 32)      2432      \n",
            "                                                                 \n",
            " max_pooling2d_134 (MaxPool  (None, 100, 100, 32)      0         \n",
            " ing2D)                                                          \n",
            "                                                                 \n",
            " dropout_126 (Dropout)       (None, 100, 100, 32)      0         \n",
            "                                                                 \n",
            " conv2d_172 (Conv2D)         (None, 100, 100, 64)      18496     \n",
            "                                                                 \n",
            " max_pooling2d_135 (MaxPool  (None, 50, 50, 64)        0         \n",
            " ing2D)                                                          \n",
            "                                                                 \n",
            " dropout_127 (Dropout)       (None, 50, 50, 64)        0         \n",
            "                                                                 \n",
            " conv2d_173 (Conv2D)         (None, 50, 50, 128)       73856     \n",
            "                                                                 \n",
            " max_pooling2d_136 (MaxPool  (None, 25, 25, 128)       0         \n",
            " ing2D)                                                          \n",
            "                                                                 \n",
            " dropout_128 (Dropout)       (None, 25, 25, 128)       0         \n",
            "                                                                 \n",
            " conv2d_174 (Conv2D)         (None, 25, 25, 512)       590336    \n",
            "                                                                 \n",
            " max_pooling2d_137 (MaxPool  (None, 12, 12, 512)       0         \n",
            " ing2D)                                                          \n",
            "                                                                 \n",
            " flatten_40 (Flatten)        (None, 73728)             0         \n",
            "                                                                 \n",
            " dense_90 (Dense)            (None, 128)               9437312   \n",
            "                                                                 \n",
            " dropout_129 (Dropout)       (None, 128)               0         \n",
            "                                                                 \n",
            " dense_91 (Dense)            (None, 128)               16512     \n",
            "                                                                 \n",
            " dense_92 (Dense)            (None, 7)                 903       \n",
            "                                                                 \n",
            "=================================================================\n",
            "Total params: 10139847 (38.68 MB)\n",
            "Trainable params: 10139847 (38.68 MB)\n",
            "Non-trainable params: 0 (0.00 Byte)\n",
            "_________________________________________________________________\n"
          ]
        }
      ]
    },
    {
      "cell_type": "code",
      "source": [
        "# entrenamos el modelo\n",
        "history2=model.fit(X_train_aug, y_train_aug, validation_data=(X_test, y_test), epochs=30, batch_size=50)"
      ],
      "metadata": {
        "colab": {
          "base_uri": "https://localhost:8080/"
        },
        "id": "-f37azrrnBqP",
        "outputId": "d9f77bdb-3bbf-4997-ea3e-cf277335f7e5"
      },
      "execution_count": 297,
      "outputs": [
        {
          "output_type": "stream",
          "name": "stdout",
          "text": [
            "Epoch 1/30\n",
            "7/7 [==============================] - 4s 199ms/step - loss: 325.2596 - accuracy: 0.1591 - val_loss: 1.9446 - val_accuracy: 0.1194\n",
            "Epoch 2/30\n",
            "7/7 [==============================] - 1s 133ms/step - loss: 2.2169 - accuracy: 0.1299 - val_loss: 1.9460 - val_accuracy: 0.1343\n",
            "Epoch 3/30\n",
            "7/7 [==============================] - 1s 127ms/step - loss: 1.9492 - accuracy: 0.1526 - val_loss: 1.9423 - val_accuracy: 0.1493\n",
            "Epoch 4/30\n",
            "7/7 [==============================] - 1s 134ms/step - loss: 1.9651 - accuracy: 0.1656 - val_loss: 1.9427 - val_accuracy: 0.2090\n",
            "Epoch 5/30\n",
            "7/7 [==============================] - 1s 134ms/step - loss: 1.9449 - accuracy: 0.1396 - val_loss: 1.9470 - val_accuracy: 0.1194\n",
            "Epoch 6/30\n",
            "7/7 [==============================] - 1s 136ms/step - loss: 1.9421 - accuracy: 0.1558 - val_loss: 1.9467 - val_accuracy: 0.1343\n",
            "Epoch 7/30\n",
            "7/7 [==============================] - 1s 136ms/step - loss: 1.9145 - accuracy: 0.2175 - val_loss: 1.9367 - val_accuracy: 0.2090\n",
            "Epoch 8/30\n",
            "7/7 [==============================] - 1s 128ms/step - loss: 1.8685 - accuracy: 0.2760 - val_loss: 1.9265 - val_accuracy: 0.2090\n",
            "Epoch 9/30\n",
            "7/7 [==============================] - 1s 129ms/step - loss: 1.8255 - accuracy: 0.2792 - val_loss: 1.9383 - val_accuracy: 0.2388\n",
            "Epoch 10/30\n",
            "7/7 [==============================] - 1s 125ms/step - loss: 1.7513 - accuracy: 0.3344 - val_loss: 1.9271 - val_accuracy: 0.2388\n",
            "Epoch 11/30\n",
            "7/7 [==============================] - 1s 129ms/step - loss: 1.6431 - accuracy: 0.3766 - val_loss: 1.9081 - val_accuracy: 0.2388\n",
            "Epoch 12/30\n",
            "7/7 [==============================] - 1s 124ms/step - loss: 1.5541 - accuracy: 0.4188 - val_loss: 1.9283 - val_accuracy: 0.2239\n",
            "Epoch 13/30\n",
            "7/7 [==============================] - 1s 125ms/step - loss: 1.4540 - accuracy: 0.4903 - val_loss: 1.9426 - val_accuracy: 0.2090\n",
            "Epoch 14/30\n",
            "7/7 [==============================] - 1s 125ms/step - loss: 1.3389 - accuracy: 0.4870 - val_loss: 1.9494 - val_accuracy: 0.2090\n",
            "Epoch 15/30\n",
            "7/7 [==============================] - 1s 125ms/step - loss: 1.1953 - accuracy: 0.5617 - val_loss: 1.9323 - val_accuracy: 0.2388\n",
            "Epoch 16/30\n",
            "7/7 [==============================] - 1s 124ms/step - loss: 1.0376 - accuracy: 0.6136 - val_loss: 1.9665 - val_accuracy: 0.3284\n",
            "Epoch 17/30\n",
            "7/7 [==============================] - 1s 125ms/step - loss: 0.9358 - accuracy: 0.6396 - val_loss: 2.0153 - val_accuracy: 0.2836\n",
            "Epoch 18/30\n",
            "7/7 [==============================] - 1s 128ms/step - loss: 0.7799 - accuracy: 0.7435 - val_loss: 2.0165 - val_accuracy: 0.2836\n",
            "Epoch 19/30\n",
            "7/7 [==============================] - 1s 129ms/step - loss: 0.6996 - accuracy: 0.7468 - val_loss: 2.1153 - val_accuracy: 0.3582\n",
            "Epoch 20/30\n",
            "7/7 [==============================] - 1s 133ms/step - loss: 0.5856 - accuracy: 0.7955 - val_loss: 2.2823 - val_accuracy: 0.2388\n",
            "Epoch 21/30\n",
            "7/7 [==============================] - 1s 137ms/step - loss: 0.7016 - accuracy: 0.7565 - val_loss: 2.1170 - val_accuracy: 0.3284\n",
            "Epoch 22/30\n",
            "7/7 [==============================] - 1s 133ms/step - loss: 0.4712 - accuracy: 0.8344 - val_loss: 2.2777 - val_accuracy: 0.2836\n",
            "Epoch 23/30\n",
            "7/7 [==============================] - 1s 130ms/step - loss: 0.3344 - accuracy: 0.8896 - val_loss: 2.5108 - val_accuracy: 0.3433\n",
            "Epoch 24/30\n",
            "7/7 [==============================] - 1s 132ms/step - loss: 0.3234 - accuracy: 0.8929 - val_loss: 2.6966 - val_accuracy: 0.3284\n",
            "Epoch 25/30\n",
            "7/7 [==============================] - 1s 130ms/step - loss: 0.2156 - accuracy: 0.9318 - val_loss: 2.8995 - val_accuracy: 0.3582\n",
            "Epoch 26/30\n",
            "7/7 [==============================] - 1s 129ms/step - loss: 0.2349 - accuracy: 0.9416 - val_loss: 3.0821 - val_accuracy: 0.3433\n",
            "Epoch 27/30\n",
            "7/7 [==============================] - 1s 126ms/step - loss: 0.1612 - accuracy: 0.9416 - val_loss: 3.4700 - val_accuracy: 0.3284\n",
            "Epoch 28/30\n",
            "7/7 [==============================] - 1s 125ms/step - loss: 0.1563 - accuracy: 0.9513 - val_loss: 2.8167 - val_accuracy: 0.3284\n",
            "Epoch 29/30\n",
            "7/7 [==============================] - 1s 128ms/step - loss: 0.1787 - accuracy: 0.9416 - val_loss: 3.0639 - val_accuracy: 0.3731\n",
            "Epoch 30/30\n",
            "7/7 [==============================] - 1s 123ms/step - loss: 0.1312 - accuracy: 0.9643 - val_loss: 3.7398 - val_accuracy: 0.3284\n"
          ]
        }
      ]
    },
    {
      "cell_type": "code",
      "source": [
        "#evaluate the keras model\n",
        "_, accuracy_tr = model.evaluate(X_train_aug, y_train_aug)\n",
        "_, accuracy_ts= model.evaluate(X_test, y_test)\n",
        "print('Accuracy train: %.2f' % (accuracy_tr*100))\n",
        "print('Accuracy test: %.2f' % (accuracy_ts*100))"
      ],
      "metadata": {
        "id": "Hi0jsxra9QIK",
        "colab": {
          "base_uri": "https://localhost:8080/"
        },
        "outputId": "bd8ef0ba-478a-4b0c-a0c4-99e14a90d8a9"
      },
      "execution_count": 298,
      "outputs": [
        {
          "output_type": "stream",
          "name": "stdout",
          "text": [
            "10/10 [==============================] - 1s 40ms/step - loss: 0.0748 - accuracy: 0.9935\n",
            "3/3 [==============================] - 0s 12ms/step - loss: 3.7398 - accuracy: 0.3284\n",
            "Accuracy train: 99.35\n",
            "Accuracy test: 32.84\n"
          ]
        }
      ]
    },
    {
      "cell_type": "code",
      "source": [
        "history_dict = history2.history"
      ],
      "metadata": {
        "id": "7QB1qp_O90uL"
      },
      "execution_count": 299,
      "outputs": []
    },
    {
      "cell_type": "code",
      "source": [
        "history_dict.keys()"
      ],
      "metadata": {
        "colab": {
          "base_uri": "https://localhost:8080/"
        },
        "id": "flF82Mk594Si",
        "outputId": "5e576104-6cc8-411e-b8ba-5f72975b0c92"
      },
      "execution_count": 300,
      "outputs": [
        {
          "output_type": "execute_result",
          "data": {
            "text/plain": [
              "dict_keys(['loss', 'accuracy', 'val_loss', 'val_accuracy'])"
            ]
          },
          "metadata": {},
          "execution_count": 300
        }
      ]
    },
    {
      "cell_type": "code",
      "source": [
        "import matplotlib.pyplot as plt\n",
        "\n",
        "plt.plot(history.history['accuracy'])\n",
        "plt.plot(history.history['val_accuracy'])\n",
        "plt.title('model accuracy')\n",
        "plt.ylabel('accuracy')\n",
        "plt.xlabel('epoch')\n",
        "plt.legend(['train', 'val'], loc='upper left')\n",
        "plt.show()"
      ],
      "metadata": {
        "colab": {
          "base_uri": "https://localhost:8080/",
          "height": 472
        },
        "id": "Ju0CyBIp94QZ",
        "outputId": "4ef40895-72f7-472d-ef6d-0ae3562c1e25"
      },
      "execution_count": 301,
      "outputs": [
        {
          "output_type": "display_data",
          "data": {
            "text/plain": [
              "<Figure size 640x480 with 1 Axes>"
            ],
            "image/png": "[encoded data removed]"
          },
          "metadata": {}
        }
      ]
    },
    {
      "cell_type": "markdown",
      "source": [
        "## Deepface\n"
      ],
      "metadata": {
        "id": "GvbVp2wWg7V7"
      }
    },
    {
      "cell_type": "code",
      "source": [
        "!pip install deepface"
      ],
      "metadata": {
        "colab": {
          "base_uri": "https://localhost:8080/"
        },
        "id": "ZXMA8Rw1g8dv",
        "outputId": "c2db03fe-64a2-4b8e-9456-72a375de6598"
      },
      "execution_count": 302,
      "outputs": [
        {
          "output_type": "stream",
          "name": "stdout",
          "text": [
            "Requirement already satisfied: deepface in /usr/local/lib/python3.10/dist-packages (0.0.79)\n",
            "Requirement already satisfied: numpy>=1.14.0 in /usr/local/lib/python3.10/dist-packages (from deepface) (1.23.5)\n",
            "Requirement already satisfied: pandas>=0.23.4 in /usr/local/lib/python3.10/dist-packages (from deepface) (1.5.3)\n",
            "Requirement already satisfied: tqdm>=4.30.0 in /usr/local/lib/python3.10/dist-packages (from deepface) (4.66.1)\n",
            "Requirement already satisfied: gdown>=3.10.1 in /usr/local/lib/python3.10/dist-packages (from deepface) (4.6.6)\n",
            "Requirement already satisfied: Pillow>=5.2.0 in /usr/local/lib/python3.10/dist-packages (from deepface) (9.4.0)\n",
            "Requirement already satisfied: opencv-python>=4.5.5.64 in /usr/local/lib/python3.10/dist-packages (from deepface) (4.8.0.76)\n",
            "Requirement already satisfied: tensorflow>=1.9.0 in /usr/local/lib/python3.10/dist-packages (from deepface) (2.14.0)\n",
            "Requirement already satisfied: keras>=2.2.0 in /usr/local/lib/python3.10/dist-packages (from deepface) (2.14.0)\n",
            "Requirement already satisfied: Flask>=1.1.2 in /usr/local/lib/python3.10/dist-packages (from deepface) (2.2.5)\n",
            "Requirement already satisfied: mtcnn>=0.1.0 in /usr/local/lib/python3.10/dist-packages (from deepface) (0.1.1)\n",
            "Requirement already satisfied: retina-face>=0.0.1 in /usr/local/lib/python3.10/dist-packages (from deepface) (0.0.13)\n",
            "Requirement already satisfied: fire>=0.4.0 in /usr/local/lib/python3.10/dist-packages (from deepface) (0.5.0)\n",
            "Requirement already satisfied: gunicorn>=20.1.0 in /usr/local/lib/python3.10/dist-packages (from deepface) (21.2.0)\n",
            "Requirement already satisfied: six in /usr/local/lib/python3.10/dist-packages (from fire>=0.4.0->deepface) (1.16.0)\n",
            "Requirement already satisfied: termcolor in /usr/local/lib/python3.10/dist-packages (from fire>=0.4.0->deepface) (2.3.0)\n",
            "Requirement already satisfied: Werkzeug>=2.2.2 in /usr/local/lib/python3.10/dist-packages (from Flask>=1.1.2->deepface) (3.0.1)\n",
            "Requirement already satisfied: Jinja2>=3.0 in /usr/local/lib/python3.10/dist-packages (from Flask>=1.1.2->deepface) (3.1.2)\n",
            "Requirement already satisfied: itsdangerous>=2.0 in /usr/local/lib/python3.10/dist-packages (from Flask>=1.1.2->deepface) (2.1.2)\n",
            "Requirement already satisfied: click>=8.0 in /usr/local/lib/python3.10/dist-packages (from Flask>=1.1.2->deepface) (8.1.7)\n",
            "Requirement already satisfied: filelock in /usr/local/lib/python3.10/dist-packages (from gdown>=3.10.1->deepface) (3.12.4)\n",
            "Requirement already satisfied: requests[socks] in /usr/local/lib/python3.10/dist-packages (from gdown>=3.10.1->deepface) (2.31.0)\n",
            "Requirement already satisfied: beautifulsoup4 in /usr/local/lib/python3.10/dist-packages (from gdown>=3.10.1->deepface) (4.11.2)\n",
            "Requirement already satisfied: packaging in /usr/local/lib/python3.10/dist-packages (from gunicorn>=20.1.0->deepface) (23.2)\n",
            "Requirement already satisfied: python-dateutil>=2.8.1 in /usr/local/lib/python3.10/dist-packages (from pandas>=0.23.4->deepface) (2.8.2)\n",
            "Requirement already satisfied: pytz>=2020.1 in /usr/local/lib/python3.10/dist-packages (from pandas>=0.23.4->deepface) (2023.3.post1)\n",
            "Requirement already satisfied: absl-py>=1.0.0 in /usr/local/lib/python3.10/dist-packages (from tensorflow>=1.9.0->deepface) (1.4.0)\n",
            "Requirement already satisfied: astunparse>=1.6.0 in /usr/local/lib/python3.10/dist-packages (from tensorflow>=1.9.0->deepface) (1.6.3)\n",
            "Requirement already satisfied: flatbuffers>=23.5.26 in /usr/local/lib/python3.10/dist-packages (from tensorflow>=1.9.0->deepface) (23.5.26)\n",
            "Requirement already satisfied: gast!=0.5.0,!=0.5.1,!=0.5.2,>=0.2.1 in /usr/local/lib/python3.10/dist-packages (from tensorflow>=1.9.0->deepface) (0.5.4)\n",
            "Requirement already satisfied: google-pasta>=0.1.1 in /usr/local/lib/python3.10/dist-packages (from tensorflow>=1.9.0->deepface) (0.2.0)\n",
            "Requirement already satisfied: h5py>=2.9.0 in /usr/local/lib/python3.10/dist-packages (from tensorflow>=1.9.0->deepface) (3.9.0)\n",
            "Requirement already satisfied: libclang>=13.0.0 in /usr/local/lib/python3.10/dist-packages (from tensorflow>=1.9.0->deepface) (16.0.6)\n",
            "Requirement already satisfied: ml-dtypes==0.2.0 in /usr/local/lib/python3.10/dist-packages (from tensorflow>=1.9.0->deepface) (0.2.0)\n",
            "Requirement already satisfied: opt-einsum>=2.3.2 in /usr/local/lib/python3.10/dist-packages (from tensorflow>=1.9.0->deepface) (3.3.0)\n",
            "Requirement already satisfied: protobuf!=4.21.0,!=4.21.1,!=4.21.2,!=4.21.3,!=4.21.4,!=4.21.5,<5.0.0dev,>=3.20.3 in /usr/local/lib/python3.10/dist-packages (from tensorflow>=1.9.0->deepface) (3.20.3)\n",
            "Requirement already satisfied: setuptools in /usr/local/lib/python3.10/dist-packages (from tensorflow>=1.9.0->deepface) (67.7.2)\n",
            "Requirement already satisfied: typing-extensions>=3.6.6 in /usr/local/lib/python3.10/dist-packages (from tensorflow>=1.9.0->deepface) (4.5.0)\n",
            "Requirement already satisfied: wrapt<1.15,>=1.11.0 in /usr/local/lib/python3.10/dist-packages (from tensorflow>=1.9.0->deepface) (1.14.1)\n",
            "Requirement already satisfied: tensorflow-io-gcs-filesystem>=0.23.1 in /usr/local/lib/python3.10/dist-packages (from tensorflow>=1.9.0->deepface) (0.34.0)\n",
            "Requirement already satisfied: grpcio<2.0,>=1.24.3 in /usr/local/lib/python3.10/dist-packages (from tensorflow>=1.9.0->deepface) (1.59.0)\n",
            "Requirement already satisfied: tensorboard<2.15,>=2.14 in /usr/local/lib/python3.10/dist-packages (from tensorflow>=1.9.0->deepface) (2.14.1)\n",
            "Requirement already satisfied: tensorflow-estimator<2.15,>=2.14.0 in /usr/local/lib/python3.10/dist-packages (from tensorflow>=1.9.0->deepface) (2.14.0)\n",
            "Requirement already satisfied: wheel<1.0,>=0.23.0 in /usr/local/lib/python3.10/dist-packages (from astunparse>=1.6.0->tensorflow>=1.9.0->deepface) (0.41.2)\n",
            "Requirement already satisfied: MarkupSafe>=2.0 in /usr/local/lib/python3.10/dist-packages (from Jinja2>=3.0->Flask>=1.1.2->deepface) (2.1.3)\n",
            "Requirement already satisfied: google-auth<3,>=1.6.3 in /usr/local/lib/python3.10/dist-packages (from tensorboard<2.15,>=2.14->tensorflow>=1.9.0->deepface) (2.17.3)\n",
            "Requirement already satisfied: google-auth-oauthlib<1.1,>=0.5 in /usr/local/lib/python3.10/dist-packages (from tensorboard<2.15,>=2.14->tensorflow>=1.9.0->deepface) (1.0.0)\n",
            "Requirement already satisfied: markdown>=2.6.8 in /usr/local/lib/python3.10/dist-packages (from tensorboard<2.15,>=2.14->tensorflow>=1.9.0->deepface) (3.5)\n",
            "Requirement already satisfied: tensorboard-data-server<0.8.0,>=0.7.0 in /usr/local/lib/python3.10/dist-packages (from tensorboard<2.15,>=2.14->tensorflow>=1.9.0->deepface) (0.7.2)\n",
            "Requirement already satisfied: soupsieve>1.2 in /usr/local/lib/python3.10/dist-packages (from beautifulsoup4->gdown>=3.10.1->deepface) (2.5)\n",
            "Requirement already satisfied: charset-normalizer<4,>=2 in /usr/local/lib/python3.10/dist-packages (from requests[socks]->gdown>=3.10.1->deepface) (3.3.1)\n",
            "Requirement already satisfied: idna<4,>=2.5 in /usr/local/lib/python3.10/dist-packages (from requests[socks]->gdown>=3.10.1->deepface) (3.4)\n",
            "Requirement already satisfied: urllib3<3,>=1.21.1 in /usr/local/lib/python3.10/dist-packages (from requests[socks]->gdown>=3.10.1->deepface) (2.0.7)\n",
            "Requirement already satisfied: certifi>=2017.4.17 in /usr/local/lib/python3.10/dist-packages (from requests[socks]->gdown>=3.10.1->deepface) (2023.7.22)\n",
            "Requirement already satisfied: PySocks!=1.5.7,>=1.5.6 in /usr/local/lib/python3.10/dist-packages (from requests[socks]->gdown>=3.10.1->deepface) (1.7.1)\n",
            "Requirement already satisfied: cachetools<6.0,>=2.0.0 in /usr/local/lib/python3.10/dist-packages (from google-auth<3,>=1.6.3->tensorboard<2.15,>=2.14->tensorflow>=1.9.0->deepface) (5.3.2)\n",
            "Requirement already satisfied: pyasn1-modules>=0.2.1 in /usr/local/lib/python3.10/dist-packages (from google-auth<3,>=1.6.3->tensorboard<2.15,>=2.14->tensorflow>=1.9.0->deepface) (0.3.0)\n",
            "Requirement already satisfied: rsa<5,>=3.1.4 in /usr/local/lib/python3.10/dist-packages (from google-auth<3,>=1.6.3->tensorboard<2.15,>=2.14->tensorflow>=1.9.0->deepface) (4.9)\n",
            "Requirement already satisfied: requests-oauthlib>=0.7.0 in /usr/local/lib/python3.10/dist-packages (from google-auth-oauthlib<1.1,>=0.5->tensorboard<2.15,>=2.14->tensorflow>=1.9.0->deepface) (1.3.1)\n",
            "Requirement already satisfied: pyasn1<0.6.0,>=0.4.6 in /usr/local/lib/python3.10/dist-packages (from pyasn1-modules>=0.2.1->google-auth<3,>=1.6.3->tensorboard<2.15,>=2.14->tensorflow>=1.9.0->deepface) (0.5.0)\n",
            "Requirement already satisfied: oauthlib>=3.0.0 in /usr/local/lib/python3.10/dist-packages (from requests-oauthlib>=0.7.0->google-auth-oauthlib<1.1,>=0.5->tensorboard<2.15,>=2.14->tensorflow>=1.9.0->deepface) (3.2.2)\n"
          ]
        }
      ]
    },
    {
      "cell_type": "code",
      "source": [
        "from deepface import DeepFace"
      ],
      "metadata": {
        "id": "e5m4Lv7-n6qe"
      },
      "execution_count": 308,
      "outputs": []
    },
    {
      "cell_type": "code",
      "source": [
        "objs = DeepFace.analyze(img_path = '/content/emotions/Angry/image 72.png',\n",
        "        actions = ['age', 'gender', 'race', 'emotion'])"
      ],
      "metadata": {
        "colab": {
          "base_uri": "https://localhost:8080/"
        },
        "id": "IXiTnP82g9Xd",
        "outputId": "b8ace2c1-6f62-4936-fb7c-6597b170f94c"
      },
      "execution_count": 309,
      "outputs": [
        {
          "output_type": "stream",
          "name": "stderr",
          "text": [
            "Action: emotion: 100%|██████████| 4/4 [00:00<00:00,  8.03it/s]\n"
          ]
        }
      ]
    },
    {
      "cell_type": "code",
      "source": [
        "objs"
      ],
      "metadata": {
        "colab": {
          "base_uri": "https://localhost:8080/"
        },
        "id": "7WrHST1AiSHv",
        "outputId": "528dd9a0-a723-4b60-901d-f8dfa3c95d8a"
      },
      "execution_count": 310,
      "outputs": [
        {
          "output_type": "execute_result",
          "data": {
            "text/plain": [
              "[{'age': 27,\n",
              "  'region': {'x': 16, 'y': 19, 'w': 64, 'h': 64},\n",
              "  'gender': {'Woman': 0.010792600369313732, 'Man': 99.98921155929565},\n",
              "  'dominant_gender': 'Man',\n",
              "  'race': {'asian': 7.705330981437458e-05,\n",
              "   'indian': 0.002695005380919379,\n",
              "   'black': 99.99686479531107,\n",
              "   'white': 7.02966990707161e-08,\n",
              "   'middle eastern': 3.2245251982207586e-08,\n",
              "   'latino hispanic': 0.00036408987191133534},\n",
              "  'dominant_race': 'black',\n",
              "  'emotion': {'angry': 70.22531032562256,\n",
              "   'disgust': 0.021527649369090796,\n",
              "   'fear': 19.682490825653076,\n",
              "   'happy': 9.319017827510834,\n",
              "   'sad': 0.5968871992081404,\n",
              "   'surprise': 0.11439344380050898,\n",
              "   'neutral': 0.04037504259031266},\n",
              "  'dominant_emotion': 'angry'}]"
            ]
          },
          "metadata": {},
          "execution_count": 310
        }
      ]
    },
    {
      "cell_type": "code",
      "source": [
        "print(len(objs))"
      ],
      "metadata": {
        "colab": {
          "base_uri": "https://localhost:8080/"
        },
        "id": "mf6vxP9cBTJz",
        "outputId": "68c30ffb-f5c0-43e2-e659-cea31a0fa292"
      },
      "execution_count": 311,
      "outputs": [
        {
          "output_type": "stream",
          "name": "stdout",
          "text": [
            "1\n"
          ]
        }
      ]
    },
    {
      "cell_type": "markdown",
      "source": [
        "Compare your results with DeepFace Library"
      ],
      "metadata": {
        "id": "_KaCpflDCkDy"
      }
    },
    {
      "cell_type": "code",
      "source": [
        "image= Image.fromarray(np.uint8(batch[0][100]))\n",
        "image = np.array(image) / 255.0  # Normaliza los valores de píxeles entre 0 y 1\n",
        "image = image.reshape(1, 200, 200, 3)  # Ajusta la forma para una sola imagen"
      ],
      "metadata": {
        "id": "ArJJiFRfDtYR"
      },
      "execution_count": 333,
      "outputs": []
    },
    {
      "cell_type": "code",
      "source": [
        "model.predict(image)"
      ],
      "metadata": {
        "colab": {
          "base_uri": "https://localhost:8080/"
        },
        "id": "laBL-VqADBx-",
        "outputId": "a4e16bc9-1184-4c3b-deb4-9ff853490ce4"
      },
      "execution_count": 334,
      "outputs": [
        {
          "output_type": "stream",
          "name": "stdout",
          "text": [
            "1/1 [==============================] - 0s 19ms/step\n"
          ]
        },
        {
          "output_type": "execute_result",
          "data": {
            "text/plain": [
              "array([[0.13267398, 0.13780357, 0.14700681, 0.15445124, 0.15007609,\n",
              "        0.1502479 , 0.1277404 ]], dtype=float32)"
            ]
          },
          "metadata": {},
          "execution_count": 334
        }
      ]
    },
    {
      "cell_type": "code",
      "source": [
        "print(f'Test accuracy of your model: {accuracy_ts}')\n",
        "emotion = objs[0]['emotion']\n",
        "print(f'Emotion prediction by DeepFace model: {emotion}')"
      ],
      "metadata": {
        "id": "VFslwfD7-TDo",
        "colab": {
          "base_uri": "https://localhost:8080/"
        },
        "outputId": "38ccc4d6-bc71-4d6c-ec62-ec76d8af0e91"
      },
      "execution_count": 335,
      "outputs": [
        {
          "output_type": "stream",
          "name": "stdout",
          "text": [
            "Test accuracy of your model: 0.3283582031726837\n",
            "Emotion prediction by DeepFace model: {'angry': 70.22531032562256, 'disgust': 0.021527649369090796, 'fear': 19.682490825653076, 'happy': 9.319017827510834, 'sad': 0.5968871992081404, 'surprise': 0.11439344380050898, 'neutral': 0.04037504259031266}\n"
          ]
        }
      ]
    }
  ]
}